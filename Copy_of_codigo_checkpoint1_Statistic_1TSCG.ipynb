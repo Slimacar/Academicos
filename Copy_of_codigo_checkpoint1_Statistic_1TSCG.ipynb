{
  "nbformat": 4,
  "nbformat_minor": 0,
  "metadata": {
    "colab": {
      "provenance": [],
      "include_colab_link": true
    },
    "kernelspec": {
      "name": "python3",
      "display_name": "Python 3"
    }
  },
  "cells": [
    {
      "cell_type": "markdown",
      "metadata": {
        "id": "view-in-github",
        "colab_type": "text"
      },
      "source": [
        "<a href=\"https://colab.research.google.com/github/Slimacar/Academicos/blob/main/Copy_of_codigo_checkpoint1_Statistic_1TSCG.ipynb\" target=\"_parent\"><img src=\"https://colab.research.google.com/assets/colab-badge.svg\" alt=\"Open In Colab\"/></a>"
      ]
    },
    {
      "cell_type": "markdown",
      "metadata": {
        "id": "MVYnsCKTRFt7"
      },
      "source": [
        "# Checkpoint 1"
      ]
    },
    {
      "cell_type": "markdown",
      "metadata": {
        "id": "VB6rsGNoRIEs"
      },
      "source": [
        "## Carregar módulos"
      ]
    },
    {
      "cell_type": "code",
      "metadata": {
        "id": "IRai7_OaRIJQ"
      },
      "source": [
        "import numpy as np\n",
        "import pandas as pd\n",
        "import matplotlib.pyplot as plt\n",
        "%matplotlib inline\n",
        "import seaborn as sns"
      ],
      "execution_count": 41,
      "outputs": []
    },
    {
      "cell_type": "markdown",
      "metadata": {
        "id": "KOHsl-KNRINm"
      },
      "source": [
        "## Carregar dados"
      ]
    },
    {
      "cell_type": "code",
      "metadata": {
        "id": "bKE4njwDRIRm"
      },
      "source": [
        "path = 'https://raw.githubusercontent.com/CSSEGISandData/COVID-19/master/csse_covid_19_data/csse_covid_19_time_series/time_series_covid19_confirmed_global.csv'\n",
        "path_dead =  'https://raw.githubusercontent.com/CSSEGISandData/COVID-19/master/csse_covid_19_data/csse_covid_19_time_series/time_series_covid19_deaths_global.csv'"
      ],
      "execution_count": 42,
      "outputs": []
    },
    {
      "cell_type": "code",
      "metadata": {
        "id": "Pb1mQyrlRIVv"
      },
      "source": [
        "dados_paises_covid = pd.read_csv(path)\n",
        "dados_paises_covid_dead = pd.read_csv(path_dead)"
      ],
      "execution_count": 43,
      "outputs": []
    },
    {
      "cell_type": "code",
      "metadata": {
        "colab": {
          "base_uri": "https://localhost:8080/",
          "height": 522
        },
        "id": "bxzV_0QVFi29",
        "outputId": "821dbbf9-bf6c-4c91-8c81-a3f3422332b6"
      },
      "source": [
        "dados_paises_covid"
      ],
      "execution_count": 44,
      "outputs": [
        {
          "output_type": "execute_result",
          "data": {
            "text/plain": [
              "    Province/State        Country/Region        Lat        Long  1/22/20  \\\n",
              "0              NaN           Afghanistan  33.939110   67.709953        0   \n",
              "1              NaN               Albania  41.153300   20.168300        0   \n",
              "2              NaN               Algeria  28.033900    1.659600        0   \n",
              "3              NaN               Andorra  42.506300    1.521800        0   \n",
              "4              NaN                Angola -11.202700   17.873900        0   \n",
              "..             ...                   ...        ...         ...      ...   \n",
              "284            NaN    West Bank and Gaza  31.952200   35.233200        0   \n",
              "285            NaN  Winter Olympics 2022  39.904200  116.407400        0   \n",
              "286            NaN                 Yemen  15.552727   48.516388        0   \n",
              "287            NaN                Zambia -13.133897   27.849332        0   \n",
              "288            NaN              Zimbabwe -19.015438   29.154857        0   \n",
              "\n",
              "     1/23/20  1/24/20  1/25/20  1/26/20  1/27/20  ...  2/28/23  3/1/23  \\\n",
              "0          0        0        0        0        0  ...   209322  209340   \n",
              "1          0        0        0        0        0  ...   334391  334408   \n",
              "2          0        0        0        0        0  ...   271441  271448   \n",
              "3          0        0        0        0        0  ...    47866   47875   \n",
              "4          0        0        0        0        0  ...   105255  105277   \n",
              "..       ...      ...      ...      ...      ...  ...      ...     ...   \n",
              "284        0        0        0        0        0  ...   703228  703228   \n",
              "285        0        0        0        0        0  ...      535     535   \n",
              "286        0        0        0        0        0  ...    11945   11945   \n",
              "287        0        0        0        0        0  ...   343012  343012   \n",
              "288        0        0        0        0        0  ...   263921  264127   \n",
              "\n",
              "     3/2/23  3/3/23  3/4/23  3/5/23  3/6/23  3/7/23  3/8/23  3/9/23  \n",
              "0    209358  209362  209369  209390  209406  209436  209451  209451  \n",
              "1    334408  334427  334427  334427  334427  334427  334443  334457  \n",
              "2    271463  271469  271469  271477  271477  271490  271494  271496  \n",
              "3     47875   47875   47875   47875   47875   47875   47890   47890  \n",
              "4    105277  105277  105277  105277  105277  105277  105288  105288  \n",
              "..      ...     ...     ...     ...     ...     ...     ...     ...  \n",
              "284  703228  703228  703228  703228  703228  703228  703228  703228  \n",
              "285     535     535     535     535     535     535     535     535  \n",
              "286   11945   11945   11945   11945   11945   11945   11945   11945  \n",
              "287  343079  343079  343079  343135  343135  343135  343135  343135  \n",
              "288  264127  264127  264127  264127  264127  264127  264276  264276  \n",
              "\n",
              "[289 rows x 1147 columns]"
            ],
            "text/html": [
              "\n",
              "  <div id=\"df-b5e81f30-e006-4cf0-833e-2f780761d40c\">\n",
              "    <div class=\"colab-df-container\">\n",
              "      <div>\n",
              "<style scoped>\n",
              "    .dataframe tbody tr th:only-of-type {\n",
              "        vertical-align: middle;\n",
              "    }\n",
              "\n",
              "    .dataframe tbody tr th {\n",
              "        vertical-align: top;\n",
              "    }\n",
              "\n",
              "    .dataframe thead th {\n",
              "        text-align: right;\n",
              "    }\n",
              "</style>\n",
              "<table border=\"1\" class=\"dataframe\">\n",
              "  <thead>\n",
              "    <tr style=\"text-align: right;\">\n",
              "      <th></th>\n",
              "      <th>Province/State</th>\n",
              "      <th>Country/Region</th>\n",
              "      <th>Lat</th>\n",
              "      <th>Long</th>\n",
              "      <th>1/22/20</th>\n",
              "      <th>1/23/20</th>\n",
              "      <th>1/24/20</th>\n",
              "      <th>1/25/20</th>\n",
              "      <th>1/26/20</th>\n",
              "      <th>1/27/20</th>\n",
              "      <th>...</th>\n",
              "      <th>2/28/23</th>\n",
              "      <th>3/1/23</th>\n",
              "      <th>3/2/23</th>\n",
              "      <th>3/3/23</th>\n",
              "      <th>3/4/23</th>\n",
              "      <th>3/5/23</th>\n",
              "      <th>3/6/23</th>\n",
              "      <th>3/7/23</th>\n",
              "      <th>3/8/23</th>\n",
              "      <th>3/9/23</th>\n",
              "    </tr>\n",
              "  </thead>\n",
              "  <tbody>\n",
              "    <tr>\n",
              "      <th>0</th>\n",
              "      <td>NaN</td>\n",
              "      <td>Afghanistan</td>\n",
              "      <td>33.939110</td>\n",
              "      <td>67.709953</td>\n",
              "      <td>0</td>\n",
              "      <td>0</td>\n",
              "      <td>0</td>\n",
              "      <td>0</td>\n",
              "      <td>0</td>\n",
              "      <td>0</td>\n",
              "      <td>...</td>\n",
              "      <td>209322</td>\n",
              "      <td>209340</td>\n",
              "      <td>209358</td>\n",
              "      <td>209362</td>\n",
              "      <td>209369</td>\n",
              "      <td>209390</td>\n",
              "      <td>209406</td>\n",
              "      <td>209436</td>\n",
              "      <td>209451</td>\n",
              "      <td>209451</td>\n",
              "    </tr>\n",
              "    <tr>\n",
              "      <th>1</th>\n",
              "      <td>NaN</td>\n",
              "      <td>Albania</td>\n",
              "      <td>41.153300</td>\n",
              "      <td>20.168300</td>\n",
              "      <td>0</td>\n",
              "      <td>0</td>\n",
              "      <td>0</td>\n",
              "      <td>0</td>\n",
              "      <td>0</td>\n",
              "      <td>0</td>\n",
              "      <td>...</td>\n",
              "      <td>334391</td>\n",
              "      <td>334408</td>\n",
              "      <td>334408</td>\n",
              "      <td>334427</td>\n",
              "      <td>334427</td>\n",
              "      <td>334427</td>\n",
              "      <td>334427</td>\n",
              "      <td>334427</td>\n",
              "      <td>334443</td>\n",
              "      <td>334457</td>\n",
              "    </tr>\n",
              "    <tr>\n",
              "      <th>2</th>\n",
              "      <td>NaN</td>\n",
              "      <td>Algeria</td>\n",
              "      <td>28.033900</td>\n",
              "      <td>1.659600</td>\n",
              "      <td>0</td>\n",
              "      <td>0</td>\n",
              "      <td>0</td>\n",
              "      <td>0</td>\n",
              "      <td>0</td>\n",
              "      <td>0</td>\n",
              "      <td>...</td>\n",
              "      <td>271441</td>\n",
              "      <td>271448</td>\n",
              "      <td>271463</td>\n",
              "      <td>271469</td>\n",
              "      <td>271469</td>\n",
              "      <td>271477</td>\n",
              "      <td>271477</td>\n",
              "      <td>271490</td>\n",
              "      <td>271494</td>\n",
              "      <td>271496</td>\n",
              "    </tr>\n",
              "    <tr>\n",
              "      <th>3</th>\n",
              "      <td>NaN</td>\n",
              "      <td>Andorra</td>\n",
              "      <td>42.506300</td>\n",
              "      <td>1.521800</td>\n",
              "      <td>0</td>\n",
              "      <td>0</td>\n",
              "      <td>0</td>\n",
              "      <td>0</td>\n",
              "      <td>0</td>\n",
              "      <td>0</td>\n",
              "      <td>...</td>\n",
              "      <td>47866</td>\n",
              "      <td>47875</td>\n",
              "      <td>47875</td>\n",
              "      <td>47875</td>\n",
              "      <td>47875</td>\n",
              "      <td>47875</td>\n",
              "      <td>47875</td>\n",
              "      <td>47875</td>\n",
              "      <td>47890</td>\n",
              "      <td>47890</td>\n",
              "    </tr>\n",
              "    <tr>\n",
              "      <th>4</th>\n",
              "      <td>NaN</td>\n",
              "      <td>Angola</td>\n",
              "      <td>-11.202700</td>\n",
              "      <td>17.873900</td>\n",
              "      <td>0</td>\n",
              "      <td>0</td>\n",
              "      <td>0</td>\n",
              "      <td>0</td>\n",
              "      <td>0</td>\n",
              "      <td>0</td>\n",
              "      <td>...</td>\n",
              "      <td>105255</td>\n",
              "      <td>105277</td>\n",
              "      <td>105277</td>\n",
              "      <td>105277</td>\n",
              "      <td>105277</td>\n",
              "      <td>105277</td>\n",
              "      <td>105277</td>\n",
              "      <td>105277</td>\n",
              "      <td>105288</td>\n",
              "      <td>105288</td>\n",
              "    </tr>\n",
              "    <tr>\n",
              "      <th>...</th>\n",
              "      <td>...</td>\n",
              "      <td>...</td>\n",
              "      <td>...</td>\n",
              "      <td>...</td>\n",
              "      <td>...</td>\n",
              "      <td>...</td>\n",
              "      <td>...</td>\n",
              "      <td>...</td>\n",
              "      <td>...</td>\n",
              "      <td>...</td>\n",
              "      <td>...</td>\n",
              "      <td>...</td>\n",
              "      <td>...</td>\n",
              "      <td>...</td>\n",
              "      <td>...</td>\n",
              "      <td>...</td>\n",
              "      <td>...</td>\n",
              "      <td>...</td>\n",
              "      <td>...</td>\n",
              "      <td>...</td>\n",
              "      <td>...</td>\n",
              "    </tr>\n",
              "    <tr>\n",
              "      <th>284</th>\n",
              "      <td>NaN</td>\n",
              "      <td>West Bank and Gaza</td>\n",
              "      <td>31.952200</td>\n",
              "      <td>35.233200</td>\n",
              "      <td>0</td>\n",
              "      <td>0</td>\n",
              "      <td>0</td>\n",
              "      <td>0</td>\n",
              "      <td>0</td>\n",
              "      <td>0</td>\n",
              "      <td>...</td>\n",
              "      <td>703228</td>\n",
              "      <td>703228</td>\n",
              "      <td>703228</td>\n",
              "      <td>703228</td>\n",
              "      <td>703228</td>\n",
              "      <td>703228</td>\n",
              "      <td>703228</td>\n",
              "      <td>703228</td>\n",
              "      <td>703228</td>\n",
              "      <td>703228</td>\n",
              "    </tr>\n",
              "    <tr>\n",
              "      <th>285</th>\n",
              "      <td>NaN</td>\n",
              "      <td>Winter Olympics 2022</td>\n",
              "      <td>39.904200</td>\n",
              "      <td>116.407400</td>\n",
              "      <td>0</td>\n",
              "      <td>0</td>\n",
              "      <td>0</td>\n",
              "      <td>0</td>\n",
              "      <td>0</td>\n",
              "      <td>0</td>\n",
              "      <td>...</td>\n",
              "      <td>535</td>\n",
              "      <td>535</td>\n",
              "      <td>535</td>\n",
              "      <td>535</td>\n",
              "      <td>535</td>\n",
              "      <td>535</td>\n",
              "      <td>535</td>\n",
              "      <td>535</td>\n",
              "      <td>535</td>\n",
              "      <td>535</td>\n",
              "    </tr>\n",
              "    <tr>\n",
              "      <th>286</th>\n",
              "      <td>NaN</td>\n",
              "      <td>Yemen</td>\n",
              "      <td>15.552727</td>\n",
              "      <td>48.516388</td>\n",
              "      <td>0</td>\n",
              "      <td>0</td>\n",
              "      <td>0</td>\n",
              "      <td>0</td>\n",
              "      <td>0</td>\n",
              "      <td>0</td>\n",
              "      <td>...</td>\n",
              "      <td>11945</td>\n",
              "      <td>11945</td>\n",
              "      <td>11945</td>\n",
              "      <td>11945</td>\n",
              "      <td>11945</td>\n",
              "      <td>11945</td>\n",
              "      <td>11945</td>\n",
              "      <td>11945</td>\n",
              "      <td>11945</td>\n",
              "      <td>11945</td>\n",
              "    </tr>\n",
              "    <tr>\n",
              "      <th>287</th>\n",
              "      <td>NaN</td>\n",
              "      <td>Zambia</td>\n",
              "      <td>-13.133897</td>\n",
              "      <td>27.849332</td>\n",
              "      <td>0</td>\n",
              "      <td>0</td>\n",
              "      <td>0</td>\n",
              "      <td>0</td>\n",
              "      <td>0</td>\n",
              "      <td>0</td>\n",
              "      <td>...</td>\n",
              "      <td>343012</td>\n",
              "      <td>343012</td>\n",
              "      <td>343079</td>\n",
              "      <td>343079</td>\n",
              "      <td>343079</td>\n",
              "      <td>343135</td>\n",
              "      <td>343135</td>\n",
              "      <td>343135</td>\n",
              "      <td>343135</td>\n",
              "      <td>343135</td>\n",
              "    </tr>\n",
              "    <tr>\n",
              "      <th>288</th>\n",
              "      <td>NaN</td>\n",
              "      <td>Zimbabwe</td>\n",
              "      <td>-19.015438</td>\n",
              "      <td>29.154857</td>\n",
              "      <td>0</td>\n",
              "      <td>0</td>\n",
              "      <td>0</td>\n",
              "      <td>0</td>\n",
              "      <td>0</td>\n",
              "      <td>0</td>\n",
              "      <td>...</td>\n",
              "      <td>263921</td>\n",
              "      <td>264127</td>\n",
              "      <td>264127</td>\n",
              "      <td>264127</td>\n",
              "      <td>264127</td>\n",
              "      <td>264127</td>\n",
              "      <td>264127</td>\n",
              "      <td>264127</td>\n",
              "      <td>264276</td>\n",
              "      <td>264276</td>\n",
              "    </tr>\n",
              "  </tbody>\n",
              "</table>\n",
              "<p>289 rows × 1147 columns</p>\n",
              "</div>\n",
              "      <button class=\"colab-df-convert\" onclick=\"convertToInteractive('df-b5e81f30-e006-4cf0-833e-2f780761d40c')\"\n",
              "              title=\"Convert this dataframe to an interactive table.\"\n",
              "              style=\"display:none;\">\n",
              "        \n",
              "  <svg xmlns=\"http://www.w3.org/2000/svg\" height=\"24px\"viewBox=\"0 0 24 24\"\n",
              "       width=\"24px\">\n",
              "    <path d=\"M0 0h24v24H0V0z\" fill=\"none\"/>\n",
              "    <path d=\"M18.56 5.44l.94 2.06.94-2.06 2.06-.94-2.06-.94-.94-2.06-.94 2.06-2.06.94zm-11 1L8.5 8.5l.94-2.06 2.06-.94-2.06-.94L8.5 2.5l-.94 2.06-2.06.94zm10 10l.94 2.06.94-2.06 2.06-.94-2.06-.94-.94-2.06-.94 2.06-2.06.94z\"/><path d=\"M17.41 7.96l-1.37-1.37c-.4-.4-.92-.59-1.43-.59-.52 0-1.04.2-1.43.59L10.3 9.45l-7.72 7.72c-.78.78-.78 2.05 0 2.83L4 21.41c.39.39.9.59 1.41.59.51 0 1.02-.2 1.41-.59l7.78-7.78 2.81-2.81c.8-.78.8-2.07 0-2.86zM5.41 20L4 18.59l7.72-7.72 1.47 1.35L5.41 20z\"/>\n",
              "  </svg>\n",
              "      </button>\n",
              "      \n",
              "  <style>\n",
              "    .colab-df-container {\n",
              "      display:flex;\n",
              "      flex-wrap:wrap;\n",
              "      gap: 12px;\n",
              "    }\n",
              "\n",
              "    .colab-df-convert {\n",
              "      background-color: #E8F0FE;\n",
              "      border: none;\n",
              "      border-radius: 50%;\n",
              "      cursor: pointer;\n",
              "      display: none;\n",
              "      fill: #1967D2;\n",
              "      height: 32px;\n",
              "      padding: 0 0 0 0;\n",
              "      width: 32px;\n",
              "    }\n",
              "\n",
              "    .colab-df-convert:hover {\n",
              "      background-color: #E2EBFA;\n",
              "      box-shadow: 0px 1px 2px rgba(60, 64, 67, 0.3), 0px 1px 3px 1px rgba(60, 64, 67, 0.15);\n",
              "      fill: #174EA6;\n",
              "    }\n",
              "\n",
              "    [theme=dark] .colab-df-convert {\n",
              "      background-color: #3B4455;\n",
              "      fill: #D2E3FC;\n",
              "    }\n",
              "\n",
              "    [theme=dark] .colab-df-convert:hover {\n",
              "      background-color: #434B5C;\n",
              "      box-shadow: 0px 1px 3px 1px rgba(0, 0, 0, 0.15);\n",
              "      filter: drop-shadow(0px 1px 2px rgba(0, 0, 0, 0.3));\n",
              "      fill: #FFFFFF;\n",
              "    }\n",
              "  </style>\n",
              "\n",
              "      <script>\n",
              "        const buttonEl =\n",
              "          document.querySelector('#df-b5e81f30-e006-4cf0-833e-2f780761d40c button.colab-df-convert');\n",
              "        buttonEl.style.display =\n",
              "          google.colab.kernel.accessAllowed ? 'block' : 'none';\n",
              "\n",
              "        async function convertToInteractive(key) {\n",
              "          const element = document.querySelector('#df-b5e81f30-e006-4cf0-833e-2f780761d40c');\n",
              "          const dataTable =\n",
              "            await google.colab.kernel.invokeFunction('convertToInteractive',\n",
              "                                                     [key], {});\n",
              "          if (!dataTable) return;\n",
              "\n",
              "          const docLinkHtml = 'Like what you see? Visit the ' +\n",
              "            '<a target=\"_blank\" href=https://colab.research.google.com/notebooks/data_table.ipynb>data table notebook</a>'\n",
              "            + ' to learn more about interactive tables.';\n",
              "          element.innerHTML = '';\n",
              "          dataTable['output_type'] = 'display_data';\n",
              "          await google.colab.output.renderOutput(dataTable, element);\n",
              "          const docLink = document.createElement('div');\n",
              "          docLink.innerHTML = docLinkHtml;\n",
              "          element.appendChild(docLink);\n",
              "        }\n",
              "      </script>\n",
              "    </div>\n",
              "  </div>\n",
              "  "
            ]
          },
          "metadata": {},
          "execution_count": 44
        }
      ]
    },
    {
      "cell_type": "code",
      "source": [
        "dados_paises_covid['Country/Region'].unique()"
      ],
      "metadata": {
        "colab": {
          "base_uri": "https://localhost:8080/"
        },
        "id": "qpl4bLHJqyDr",
        "outputId": "f0522fa9-f1bc-4924-da50-b436a0e13e3a"
      },
      "execution_count": 45,
      "outputs": [
        {
          "output_type": "execute_result",
          "data": {
            "text/plain": [
              "array(['Afghanistan', 'Albania', 'Algeria', 'Andorra', 'Angola',\n",
              "       'Antarctica', 'Antigua and Barbuda', 'Argentina', 'Armenia',\n",
              "       'Australia', 'Austria', 'Azerbaijan', 'Bahamas', 'Bahrain',\n",
              "       'Bangladesh', 'Barbados', 'Belarus', 'Belgium', 'Belize', 'Benin',\n",
              "       'Bhutan', 'Bolivia', 'Bosnia and Herzegovina', 'Botswana',\n",
              "       'Brazil', 'Brunei', 'Bulgaria', 'Burkina Faso', 'Burma', 'Burundi',\n",
              "       'Cabo Verde', 'Cambodia', 'Cameroon', 'Canada',\n",
              "       'Central African Republic', 'Chad', 'Chile', 'China', 'Colombia',\n",
              "       'Comoros', 'Congo (Brazzaville)', 'Congo (Kinshasa)', 'Costa Rica',\n",
              "       \"Cote d'Ivoire\", 'Croatia', 'Cuba', 'Cyprus', 'Czechia', 'Denmark',\n",
              "       'Diamond Princess', 'Djibouti', 'Dominica', 'Dominican Republic',\n",
              "       'Ecuador', 'Egypt', 'El Salvador', 'Equatorial Guinea', 'Eritrea',\n",
              "       'Estonia', 'Eswatini', 'Ethiopia', 'Fiji', 'Finland', 'France',\n",
              "       'Gabon', 'Gambia', 'Georgia', 'Germany', 'Ghana', 'Greece',\n",
              "       'Grenada', 'Guatemala', 'Guinea', 'Guinea-Bissau', 'Guyana',\n",
              "       'Haiti', 'Holy See', 'Honduras', 'Hungary', 'Iceland', 'India',\n",
              "       'Indonesia', 'Iran', 'Iraq', 'Ireland', 'Israel', 'Italy',\n",
              "       'Jamaica', 'Japan', 'Jordan', 'Kazakhstan', 'Kenya', 'Kiribati',\n",
              "       'Korea, North', 'Korea, South', 'Kosovo', 'Kuwait', 'Kyrgyzstan',\n",
              "       'Laos', 'Latvia', 'Lebanon', 'Lesotho', 'Liberia', 'Libya',\n",
              "       'Liechtenstein', 'Lithuania', 'Luxembourg', 'MS Zaandam',\n",
              "       'Madagascar', 'Malawi', 'Malaysia', 'Maldives', 'Mali', 'Malta',\n",
              "       'Marshall Islands', 'Mauritania', 'Mauritius', 'Mexico',\n",
              "       'Micronesia', 'Moldova', 'Monaco', 'Mongolia', 'Montenegro',\n",
              "       'Morocco', 'Mozambique', 'Namibia', 'Nauru', 'Nepal',\n",
              "       'Netherlands', 'New Zealand', 'Nicaragua', 'Niger', 'Nigeria',\n",
              "       'North Macedonia', 'Norway', 'Oman', 'Pakistan', 'Palau', 'Panama',\n",
              "       'Papua New Guinea', 'Paraguay', 'Peru', 'Philippines', 'Poland',\n",
              "       'Portugal', 'Qatar', 'Romania', 'Russia', 'Rwanda',\n",
              "       'Saint Kitts and Nevis', 'Saint Lucia',\n",
              "       'Saint Vincent and the Grenadines', 'Samoa', 'San Marino',\n",
              "       'Sao Tome and Principe', 'Saudi Arabia', 'Senegal', 'Serbia',\n",
              "       'Seychelles', 'Sierra Leone', 'Singapore', 'Slovakia', 'Slovenia',\n",
              "       'Solomon Islands', 'Somalia', 'South Africa', 'South Sudan',\n",
              "       'Spain', 'Sri Lanka', 'Sudan', 'Summer Olympics 2020', 'Suriname',\n",
              "       'Sweden', 'Switzerland', 'Syria', 'Taiwan*', 'Tajikistan',\n",
              "       'Tanzania', 'Thailand', 'Timor-Leste', 'Togo', 'Tonga',\n",
              "       'Trinidad and Tobago', 'Tunisia', 'Turkey', 'Tuvalu', 'US',\n",
              "       'Uganda', 'Ukraine', 'United Arab Emirates', 'United Kingdom',\n",
              "       'Uruguay', 'Uzbekistan', 'Vanuatu', 'Venezuela', 'Vietnam',\n",
              "       'West Bank and Gaza', 'Winter Olympics 2022', 'Yemen', 'Zambia',\n",
              "       'Zimbabwe'], dtype=object)"
            ]
          },
          "metadata": {},
          "execution_count": 45
        }
      ]
    },
    {
      "cell_type": "markdown",
      "metadata": {
        "id": "0K9ECqiJRIZz"
      },
      "source": [
        "## Ajustes\n",
        "\n"
      ]
    },
    {
      "cell_type": "markdown",
      "metadata": {
        "id": "l-WQgrhUV8tq"
      },
      "source": [
        "- Nomes das colunas"
      ]
    },
    {
      "cell_type": "code",
      "metadata": {
        "id": "SaCpjFuARIeA"
      },
      "source": [
        "dados_paises_covid.rename(columns={\"Province/State\": \"province\", \n",
        "                                   \"Country/Region\": \"country\"}, \n",
        "                          inplace=True)"
      ],
      "execution_count": 46,
      "outputs": []
    },
    {
      "cell_type": "code",
      "metadata": {
        "id": "dL98RCsDS9Nf"
      },
      "source": [
        "dados_paises_covid_dead.rename(columns={\"Province/State\": \"province\", \n",
        "                                        \"Country/Region\": \"country\"}, \n",
        "                               inplace=True)"
      ],
      "execution_count": 47,
      "outputs": []
    },
    {
      "cell_type": "code",
      "metadata": {
        "colab": {
          "base_uri": "https://localhost:8080/"
        },
        "id": "C6QWe5tqS9Q_",
        "outputId": "996b75a2-cf09-4a23-e996-bac96013bea8"
      },
      "source": [
        "dados_paises_covid_dead.columns"
      ],
      "execution_count": 48,
      "outputs": [
        {
          "output_type": "execute_result",
          "data": {
            "text/plain": [
              "Index(['province', 'country', 'Lat', 'Long', '1/22/20', '1/23/20', '1/24/20',\n",
              "       '1/25/20', '1/26/20', '1/27/20',\n",
              "       ...\n",
              "       '2/28/23', '3/1/23', '3/2/23', '3/3/23', '3/4/23', '3/5/23', '3/6/23',\n",
              "       '3/7/23', '3/8/23', '3/9/23'],\n",
              "      dtype='object', length=1147)"
            ]
          },
          "metadata": {},
          "execution_count": 48
        }
      ]
    },
    {
      "cell_type": "markdown",
      "metadata": {
        "id": "bIMzVm_0WBZH"
      },
      "source": [
        "- Reajustar dados"
      ]
    },
    {
      "cell_type": "code",
      "metadata": {
        "id": "WknmgipES9V0"
      },
      "source": [
        "dados_paises_covid = dados_paises_covid.melt(id_vars=['province', 'country', 'Lat', 'Long'], \n",
        "                                             var_name = 'date', \n",
        "                                             value_name = 'infected')"
      ],
      "execution_count": 49,
      "outputs": []
    },
    {
      "cell_type": "code",
      "metadata": {
        "id": "Hc-sV4zWS9aH"
      },
      "source": [
        "dados_paises_covid_dead = dados_paises_covid_dead.melt(id_vars=['province', 'country', 'Lat', 'Long'], \n",
        "                                                       var_name = 'date', \n",
        "                                                       value_name = 'dead')"
      ],
      "execution_count": 50,
      "outputs": []
    },
    {
      "cell_type": "code",
      "metadata": {
        "colab": {
          "base_uri": "https://localhost:8080/",
          "height": 206
        },
        "id": "QX2EUqp0S9eT",
        "outputId": "4ffa1457-6451-4201-ca1e-424eb31af2d7"
      },
      "source": [
        "dados_paises_covid_dead.tail()"
      ],
      "execution_count": 51,
      "outputs": [
        {
          "output_type": "execute_result",
          "data": {
            "text/plain": [
              "       province               country        Lat        Long    date  dead\n",
              "330322      NaN    West Bank and Gaza  31.952200   35.233200  3/9/23  5708\n",
              "330323      NaN  Winter Olympics 2022  39.904200  116.407400  3/9/23     0\n",
              "330324      NaN                 Yemen  15.552727   48.516388  3/9/23  2159\n",
              "330325      NaN                Zambia -13.133897   27.849332  3/9/23  4057\n",
              "330326      NaN              Zimbabwe -19.015438   29.154857  3/9/23  5671"
            ],
            "text/html": [
              "\n",
              "  <div id=\"df-c821be0f-c5d0-48c6-b1b7-bd9a6cdc8d9c\">\n",
              "    <div class=\"colab-df-container\">\n",
              "      <div>\n",
              "<style scoped>\n",
              "    .dataframe tbody tr th:only-of-type {\n",
              "        vertical-align: middle;\n",
              "    }\n",
              "\n",
              "    .dataframe tbody tr th {\n",
              "        vertical-align: top;\n",
              "    }\n",
              "\n",
              "    .dataframe thead th {\n",
              "        text-align: right;\n",
              "    }\n",
              "</style>\n",
              "<table border=\"1\" class=\"dataframe\">\n",
              "  <thead>\n",
              "    <tr style=\"text-align: right;\">\n",
              "      <th></th>\n",
              "      <th>province</th>\n",
              "      <th>country</th>\n",
              "      <th>Lat</th>\n",
              "      <th>Long</th>\n",
              "      <th>date</th>\n",
              "      <th>dead</th>\n",
              "    </tr>\n",
              "  </thead>\n",
              "  <tbody>\n",
              "    <tr>\n",
              "      <th>330322</th>\n",
              "      <td>NaN</td>\n",
              "      <td>West Bank and Gaza</td>\n",
              "      <td>31.952200</td>\n",
              "      <td>35.233200</td>\n",
              "      <td>3/9/23</td>\n",
              "      <td>5708</td>\n",
              "    </tr>\n",
              "    <tr>\n",
              "      <th>330323</th>\n",
              "      <td>NaN</td>\n",
              "      <td>Winter Olympics 2022</td>\n",
              "      <td>39.904200</td>\n",
              "      <td>116.407400</td>\n",
              "      <td>3/9/23</td>\n",
              "      <td>0</td>\n",
              "    </tr>\n",
              "    <tr>\n",
              "      <th>330324</th>\n",
              "      <td>NaN</td>\n",
              "      <td>Yemen</td>\n",
              "      <td>15.552727</td>\n",
              "      <td>48.516388</td>\n",
              "      <td>3/9/23</td>\n",
              "      <td>2159</td>\n",
              "    </tr>\n",
              "    <tr>\n",
              "      <th>330325</th>\n",
              "      <td>NaN</td>\n",
              "      <td>Zambia</td>\n",
              "      <td>-13.133897</td>\n",
              "      <td>27.849332</td>\n",
              "      <td>3/9/23</td>\n",
              "      <td>4057</td>\n",
              "    </tr>\n",
              "    <tr>\n",
              "      <th>330326</th>\n",
              "      <td>NaN</td>\n",
              "      <td>Zimbabwe</td>\n",
              "      <td>-19.015438</td>\n",
              "      <td>29.154857</td>\n",
              "      <td>3/9/23</td>\n",
              "      <td>5671</td>\n",
              "    </tr>\n",
              "  </tbody>\n",
              "</table>\n",
              "</div>\n",
              "      <button class=\"colab-df-convert\" onclick=\"convertToInteractive('df-c821be0f-c5d0-48c6-b1b7-bd9a6cdc8d9c')\"\n",
              "              title=\"Convert this dataframe to an interactive table.\"\n",
              "              style=\"display:none;\">\n",
              "        \n",
              "  <svg xmlns=\"http://www.w3.org/2000/svg\" height=\"24px\"viewBox=\"0 0 24 24\"\n",
              "       width=\"24px\">\n",
              "    <path d=\"M0 0h24v24H0V0z\" fill=\"none\"/>\n",
              "    <path d=\"M18.56 5.44l.94 2.06.94-2.06 2.06-.94-2.06-.94-.94-2.06-.94 2.06-2.06.94zm-11 1L8.5 8.5l.94-2.06 2.06-.94-2.06-.94L8.5 2.5l-.94 2.06-2.06.94zm10 10l.94 2.06.94-2.06 2.06-.94-2.06-.94-.94-2.06-.94 2.06-2.06.94z\"/><path d=\"M17.41 7.96l-1.37-1.37c-.4-.4-.92-.59-1.43-.59-.52 0-1.04.2-1.43.59L10.3 9.45l-7.72 7.72c-.78.78-.78 2.05 0 2.83L4 21.41c.39.39.9.59 1.41.59.51 0 1.02-.2 1.41-.59l7.78-7.78 2.81-2.81c.8-.78.8-2.07 0-2.86zM5.41 20L4 18.59l7.72-7.72 1.47 1.35L5.41 20z\"/>\n",
              "  </svg>\n",
              "      </button>\n",
              "      \n",
              "  <style>\n",
              "    .colab-df-container {\n",
              "      display:flex;\n",
              "      flex-wrap:wrap;\n",
              "      gap: 12px;\n",
              "    }\n",
              "\n",
              "    .colab-df-convert {\n",
              "      background-color: #E8F0FE;\n",
              "      border: none;\n",
              "      border-radius: 50%;\n",
              "      cursor: pointer;\n",
              "      display: none;\n",
              "      fill: #1967D2;\n",
              "      height: 32px;\n",
              "      padding: 0 0 0 0;\n",
              "      width: 32px;\n",
              "    }\n",
              "\n",
              "    .colab-df-convert:hover {\n",
              "      background-color: #E2EBFA;\n",
              "      box-shadow: 0px 1px 2px rgba(60, 64, 67, 0.3), 0px 1px 3px 1px rgba(60, 64, 67, 0.15);\n",
              "      fill: #174EA6;\n",
              "    }\n",
              "\n",
              "    [theme=dark] .colab-df-convert {\n",
              "      background-color: #3B4455;\n",
              "      fill: #D2E3FC;\n",
              "    }\n",
              "\n",
              "    [theme=dark] .colab-df-convert:hover {\n",
              "      background-color: #434B5C;\n",
              "      box-shadow: 0px 1px 3px 1px rgba(0, 0, 0, 0.15);\n",
              "      filter: drop-shadow(0px 1px 2px rgba(0, 0, 0, 0.3));\n",
              "      fill: #FFFFFF;\n",
              "    }\n",
              "  </style>\n",
              "\n",
              "      <script>\n",
              "        const buttonEl =\n",
              "          document.querySelector('#df-c821be0f-c5d0-48c6-b1b7-bd9a6cdc8d9c button.colab-df-convert');\n",
              "        buttonEl.style.display =\n",
              "          google.colab.kernel.accessAllowed ? 'block' : 'none';\n",
              "\n",
              "        async function convertToInteractive(key) {\n",
              "          const element = document.querySelector('#df-c821be0f-c5d0-48c6-b1b7-bd9a6cdc8d9c');\n",
              "          const dataTable =\n",
              "            await google.colab.kernel.invokeFunction('convertToInteractive',\n",
              "                                                     [key], {});\n",
              "          if (!dataTable) return;\n",
              "\n",
              "          const docLinkHtml = 'Like what you see? Visit the ' +\n",
              "            '<a target=\"_blank\" href=https://colab.research.google.com/notebooks/data_table.ipynb>data table notebook</a>'\n",
              "            + ' to learn more about interactive tables.';\n",
              "          element.innerHTML = '';\n",
              "          dataTable['output_type'] = 'display_data';\n",
              "          await google.colab.output.renderOutput(dataTable, element);\n",
              "          const docLink = document.createElement('div');\n",
              "          docLink.innerHTML = docLinkHtml;\n",
              "          element.appendChild(docLink);\n",
              "        }\n",
              "      </script>\n",
              "    </div>\n",
              "  </div>\n",
              "  "
            ]
          },
          "metadata": {},
          "execution_count": 51
        }
      ]
    },
    {
      "cell_type": "code",
      "metadata": {
        "colab": {
          "base_uri": "https://localhost:8080/"
        },
        "id": "QmpQK2_mWJi3",
        "outputId": "5e532a98-d662-4178-e6dd-861534f4e6a2"
      },
      "source": [
        "dados_paises_covid_dead.dtypes"
      ],
      "execution_count": 52,
      "outputs": [
        {
          "output_type": "execute_result",
          "data": {
            "text/plain": [
              "province     object\n",
              "country      object\n",
              "Lat         float64\n",
              "Long        float64\n",
              "date         object\n",
              "dead          int64\n",
              "dtype: object"
            ]
          },
          "metadata": {},
          "execution_count": 52
        }
      ]
    },
    {
      "cell_type": "markdown",
      "metadata": {
        "id": "AFvH-XFGS9ip"
      },
      "source": [
        "- Ajustar datas"
      ]
    },
    {
      "cell_type": "code",
      "metadata": {
        "id": "2qHen0szS9nZ"
      },
      "source": [
        "dados_paises_covid['date'] = pd.to_datetime(dados_paises_covid['date'], \n",
        "                                            infer_datetime_format='True')"
      ],
      "execution_count": 53,
      "outputs": []
    },
    {
      "cell_type": "code",
      "metadata": {
        "id": "5hVb7IVeXIDn"
      },
      "source": [
        "dados_paises_covid_dead['date'] = pd.to_datetime(dados_paises_covid_dead['date'], \n",
        "                                                 infer_datetime_format='True')"
      ],
      "execution_count": 54,
      "outputs": []
    },
    {
      "cell_type": "code",
      "metadata": {
        "colab": {
          "base_uri": "https://localhost:8080/",
          "height": 206
        },
        "id": "f78IaxkGXmbg",
        "outputId": "606918eb-5c29-4da7-86d6-62e74fc17f4e"
      },
      "source": [
        "dados_paises_covid.tail()"
      ],
      "execution_count": 55,
      "outputs": [
        {
          "output_type": "execute_result",
          "data": {
            "text/plain": [
              "       province               country        Lat        Long       date  \\\n",
              "330322      NaN    West Bank and Gaza  31.952200   35.233200 2023-03-09   \n",
              "330323      NaN  Winter Olympics 2022  39.904200  116.407400 2023-03-09   \n",
              "330324      NaN                 Yemen  15.552727   48.516388 2023-03-09   \n",
              "330325      NaN                Zambia -13.133897   27.849332 2023-03-09   \n",
              "330326      NaN              Zimbabwe -19.015438   29.154857 2023-03-09   \n",
              "\n",
              "        infected  \n",
              "330322    703228  \n",
              "330323       535  \n",
              "330324     11945  \n",
              "330325    343135  \n",
              "330326    264276  "
            ],
            "text/html": [
              "\n",
              "  <div id=\"df-7a48e09a-e5ad-4444-b968-c0add6164454\">\n",
              "    <div class=\"colab-df-container\">\n",
              "      <div>\n",
              "<style scoped>\n",
              "    .dataframe tbody tr th:only-of-type {\n",
              "        vertical-align: middle;\n",
              "    }\n",
              "\n",
              "    .dataframe tbody tr th {\n",
              "        vertical-align: top;\n",
              "    }\n",
              "\n",
              "    .dataframe thead th {\n",
              "        text-align: right;\n",
              "    }\n",
              "</style>\n",
              "<table border=\"1\" class=\"dataframe\">\n",
              "  <thead>\n",
              "    <tr style=\"text-align: right;\">\n",
              "      <th></th>\n",
              "      <th>province</th>\n",
              "      <th>country</th>\n",
              "      <th>Lat</th>\n",
              "      <th>Long</th>\n",
              "      <th>date</th>\n",
              "      <th>infected</th>\n",
              "    </tr>\n",
              "  </thead>\n",
              "  <tbody>\n",
              "    <tr>\n",
              "      <th>330322</th>\n",
              "      <td>NaN</td>\n",
              "      <td>West Bank and Gaza</td>\n",
              "      <td>31.952200</td>\n",
              "      <td>35.233200</td>\n",
              "      <td>2023-03-09</td>\n",
              "      <td>703228</td>\n",
              "    </tr>\n",
              "    <tr>\n",
              "      <th>330323</th>\n",
              "      <td>NaN</td>\n",
              "      <td>Winter Olympics 2022</td>\n",
              "      <td>39.904200</td>\n",
              "      <td>116.407400</td>\n",
              "      <td>2023-03-09</td>\n",
              "      <td>535</td>\n",
              "    </tr>\n",
              "    <tr>\n",
              "      <th>330324</th>\n",
              "      <td>NaN</td>\n",
              "      <td>Yemen</td>\n",
              "      <td>15.552727</td>\n",
              "      <td>48.516388</td>\n",
              "      <td>2023-03-09</td>\n",
              "      <td>11945</td>\n",
              "    </tr>\n",
              "    <tr>\n",
              "      <th>330325</th>\n",
              "      <td>NaN</td>\n",
              "      <td>Zambia</td>\n",
              "      <td>-13.133897</td>\n",
              "      <td>27.849332</td>\n",
              "      <td>2023-03-09</td>\n",
              "      <td>343135</td>\n",
              "    </tr>\n",
              "    <tr>\n",
              "      <th>330326</th>\n",
              "      <td>NaN</td>\n",
              "      <td>Zimbabwe</td>\n",
              "      <td>-19.015438</td>\n",
              "      <td>29.154857</td>\n",
              "      <td>2023-03-09</td>\n",
              "      <td>264276</td>\n",
              "    </tr>\n",
              "  </tbody>\n",
              "</table>\n",
              "</div>\n",
              "      <button class=\"colab-df-convert\" onclick=\"convertToInteractive('df-7a48e09a-e5ad-4444-b968-c0add6164454')\"\n",
              "              title=\"Convert this dataframe to an interactive table.\"\n",
              "              style=\"display:none;\">\n",
              "        \n",
              "  <svg xmlns=\"http://www.w3.org/2000/svg\" height=\"24px\"viewBox=\"0 0 24 24\"\n",
              "       width=\"24px\">\n",
              "    <path d=\"M0 0h24v24H0V0z\" fill=\"none\"/>\n",
              "    <path d=\"M18.56 5.44l.94 2.06.94-2.06 2.06-.94-2.06-.94-.94-2.06-.94 2.06-2.06.94zm-11 1L8.5 8.5l.94-2.06 2.06-.94-2.06-.94L8.5 2.5l-.94 2.06-2.06.94zm10 10l.94 2.06.94-2.06 2.06-.94-2.06-.94-.94-2.06-.94 2.06-2.06.94z\"/><path d=\"M17.41 7.96l-1.37-1.37c-.4-.4-.92-.59-1.43-.59-.52 0-1.04.2-1.43.59L10.3 9.45l-7.72 7.72c-.78.78-.78 2.05 0 2.83L4 21.41c.39.39.9.59 1.41.59.51 0 1.02-.2 1.41-.59l7.78-7.78 2.81-2.81c.8-.78.8-2.07 0-2.86zM5.41 20L4 18.59l7.72-7.72 1.47 1.35L5.41 20z\"/>\n",
              "  </svg>\n",
              "      </button>\n",
              "      \n",
              "  <style>\n",
              "    .colab-df-container {\n",
              "      display:flex;\n",
              "      flex-wrap:wrap;\n",
              "      gap: 12px;\n",
              "    }\n",
              "\n",
              "    .colab-df-convert {\n",
              "      background-color: #E8F0FE;\n",
              "      border: none;\n",
              "      border-radius: 50%;\n",
              "      cursor: pointer;\n",
              "      display: none;\n",
              "      fill: #1967D2;\n",
              "      height: 32px;\n",
              "      padding: 0 0 0 0;\n",
              "      width: 32px;\n",
              "    }\n",
              "\n",
              "    .colab-df-convert:hover {\n",
              "      background-color: #E2EBFA;\n",
              "      box-shadow: 0px 1px 2px rgba(60, 64, 67, 0.3), 0px 1px 3px 1px rgba(60, 64, 67, 0.15);\n",
              "      fill: #174EA6;\n",
              "    }\n",
              "\n",
              "    [theme=dark] .colab-df-convert {\n",
              "      background-color: #3B4455;\n",
              "      fill: #D2E3FC;\n",
              "    }\n",
              "\n",
              "    [theme=dark] .colab-df-convert:hover {\n",
              "      background-color: #434B5C;\n",
              "      box-shadow: 0px 1px 3px 1px rgba(0, 0, 0, 0.15);\n",
              "      filter: drop-shadow(0px 1px 2px rgba(0, 0, 0, 0.3));\n",
              "      fill: #FFFFFF;\n",
              "    }\n",
              "  </style>\n",
              "\n",
              "      <script>\n",
              "        const buttonEl =\n",
              "          document.querySelector('#df-7a48e09a-e5ad-4444-b968-c0add6164454 button.colab-df-convert');\n",
              "        buttonEl.style.display =\n",
              "          google.colab.kernel.accessAllowed ? 'block' : 'none';\n",
              "\n",
              "        async function convertToInteractive(key) {\n",
              "          const element = document.querySelector('#df-7a48e09a-e5ad-4444-b968-c0add6164454');\n",
              "          const dataTable =\n",
              "            await google.colab.kernel.invokeFunction('convertToInteractive',\n",
              "                                                     [key], {});\n",
              "          if (!dataTable) return;\n",
              "\n",
              "          const docLinkHtml = 'Like what you see? Visit the ' +\n",
              "            '<a target=\"_blank\" href=https://colab.research.google.com/notebooks/data_table.ipynb>data table notebook</a>'\n",
              "            + ' to learn more about interactive tables.';\n",
              "          element.innerHTML = '';\n",
              "          dataTable['output_type'] = 'display_data';\n",
              "          await google.colab.output.renderOutput(dataTable, element);\n",
              "          const docLink = document.createElement('div');\n",
              "          docLink.innerHTML = docLinkHtml;\n",
              "          element.appendChild(docLink);\n",
              "        }\n",
              "      </script>\n",
              "    </div>\n",
              "  </div>\n",
              "  "
            ]
          },
          "metadata": {},
          "execution_count": 55
        }
      ]
    },
    {
      "cell_type": "code",
      "metadata": {
        "colab": {
          "base_uri": "https://localhost:8080/",
          "height": 206
        },
        "id": "uvAjTBCJS9sA",
        "outputId": "1706b6fb-bbcf-4562-8f70-a51ce4c065b9"
      },
      "source": [
        "dados_paises_covid_dead.tail()"
      ],
      "execution_count": 56,
      "outputs": [
        {
          "output_type": "execute_result",
          "data": {
            "text/plain": [
              "       province               country        Lat        Long       date  dead\n",
              "330322      NaN    West Bank and Gaza  31.952200   35.233200 2023-03-09  5708\n",
              "330323      NaN  Winter Olympics 2022  39.904200  116.407400 2023-03-09     0\n",
              "330324      NaN                 Yemen  15.552727   48.516388 2023-03-09  2159\n",
              "330325      NaN                Zambia -13.133897   27.849332 2023-03-09  4057\n",
              "330326      NaN              Zimbabwe -19.015438   29.154857 2023-03-09  5671"
            ],
            "text/html": [
              "\n",
              "  <div id=\"df-1c6d9c6f-308f-4943-875f-6b9ae1608a78\">\n",
              "    <div class=\"colab-df-container\">\n",
              "      <div>\n",
              "<style scoped>\n",
              "    .dataframe tbody tr th:only-of-type {\n",
              "        vertical-align: middle;\n",
              "    }\n",
              "\n",
              "    .dataframe tbody tr th {\n",
              "        vertical-align: top;\n",
              "    }\n",
              "\n",
              "    .dataframe thead th {\n",
              "        text-align: right;\n",
              "    }\n",
              "</style>\n",
              "<table border=\"1\" class=\"dataframe\">\n",
              "  <thead>\n",
              "    <tr style=\"text-align: right;\">\n",
              "      <th></th>\n",
              "      <th>province</th>\n",
              "      <th>country</th>\n",
              "      <th>Lat</th>\n",
              "      <th>Long</th>\n",
              "      <th>date</th>\n",
              "      <th>dead</th>\n",
              "    </tr>\n",
              "  </thead>\n",
              "  <tbody>\n",
              "    <tr>\n",
              "      <th>330322</th>\n",
              "      <td>NaN</td>\n",
              "      <td>West Bank and Gaza</td>\n",
              "      <td>31.952200</td>\n",
              "      <td>35.233200</td>\n",
              "      <td>2023-03-09</td>\n",
              "      <td>5708</td>\n",
              "    </tr>\n",
              "    <tr>\n",
              "      <th>330323</th>\n",
              "      <td>NaN</td>\n",
              "      <td>Winter Olympics 2022</td>\n",
              "      <td>39.904200</td>\n",
              "      <td>116.407400</td>\n",
              "      <td>2023-03-09</td>\n",
              "      <td>0</td>\n",
              "    </tr>\n",
              "    <tr>\n",
              "      <th>330324</th>\n",
              "      <td>NaN</td>\n",
              "      <td>Yemen</td>\n",
              "      <td>15.552727</td>\n",
              "      <td>48.516388</td>\n",
              "      <td>2023-03-09</td>\n",
              "      <td>2159</td>\n",
              "    </tr>\n",
              "    <tr>\n",
              "      <th>330325</th>\n",
              "      <td>NaN</td>\n",
              "      <td>Zambia</td>\n",
              "      <td>-13.133897</td>\n",
              "      <td>27.849332</td>\n",
              "      <td>2023-03-09</td>\n",
              "      <td>4057</td>\n",
              "    </tr>\n",
              "    <tr>\n",
              "      <th>330326</th>\n",
              "      <td>NaN</td>\n",
              "      <td>Zimbabwe</td>\n",
              "      <td>-19.015438</td>\n",
              "      <td>29.154857</td>\n",
              "      <td>2023-03-09</td>\n",
              "      <td>5671</td>\n",
              "    </tr>\n",
              "  </tbody>\n",
              "</table>\n",
              "</div>\n",
              "      <button class=\"colab-df-convert\" onclick=\"convertToInteractive('df-1c6d9c6f-308f-4943-875f-6b9ae1608a78')\"\n",
              "              title=\"Convert this dataframe to an interactive table.\"\n",
              "              style=\"display:none;\">\n",
              "        \n",
              "  <svg xmlns=\"http://www.w3.org/2000/svg\" height=\"24px\"viewBox=\"0 0 24 24\"\n",
              "       width=\"24px\">\n",
              "    <path d=\"M0 0h24v24H0V0z\" fill=\"none\"/>\n",
              "    <path d=\"M18.56 5.44l.94 2.06.94-2.06 2.06-.94-2.06-.94-.94-2.06-.94 2.06-2.06.94zm-11 1L8.5 8.5l.94-2.06 2.06-.94-2.06-.94L8.5 2.5l-.94 2.06-2.06.94zm10 10l.94 2.06.94-2.06 2.06-.94-2.06-.94-.94-2.06-.94 2.06-2.06.94z\"/><path d=\"M17.41 7.96l-1.37-1.37c-.4-.4-.92-.59-1.43-.59-.52 0-1.04.2-1.43.59L10.3 9.45l-7.72 7.72c-.78.78-.78 2.05 0 2.83L4 21.41c.39.39.9.59 1.41.59.51 0 1.02-.2 1.41-.59l7.78-7.78 2.81-2.81c.8-.78.8-2.07 0-2.86zM5.41 20L4 18.59l7.72-7.72 1.47 1.35L5.41 20z\"/>\n",
              "  </svg>\n",
              "      </button>\n",
              "      \n",
              "  <style>\n",
              "    .colab-df-container {\n",
              "      display:flex;\n",
              "      flex-wrap:wrap;\n",
              "      gap: 12px;\n",
              "    }\n",
              "\n",
              "    .colab-df-convert {\n",
              "      background-color: #E8F0FE;\n",
              "      border: none;\n",
              "      border-radius: 50%;\n",
              "      cursor: pointer;\n",
              "      display: none;\n",
              "      fill: #1967D2;\n",
              "      height: 32px;\n",
              "      padding: 0 0 0 0;\n",
              "      width: 32px;\n",
              "    }\n",
              "\n",
              "    .colab-df-convert:hover {\n",
              "      background-color: #E2EBFA;\n",
              "      box-shadow: 0px 1px 2px rgba(60, 64, 67, 0.3), 0px 1px 3px 1px rgba(60, 64, 67, 0.15);\n",
              "      fill: #174EA6;\n",
              "    }\n",
              "\n",
              "    [theme=dark] .colab-df-convert {\n",
              "      background-color: #3B4455;\n",
              "      fill: #D2E3FC;\n",
              "    }\n",
              "\n",
              "    [theme=dark] .colab-df-convert:hover {\n",
              "      background-color: #434B5C;\n",
              "      box-shadow: 0px 1px 3px 1px rgba(0, 0, 0, 0.15);\n",
              "      filter: drop-shadow(0px 1px 2px rgba(0, 0, 0, 0.3));\n",
              "      fill: #FFFFFF;\n",
              "    }\n",
              "  </style>\n",
              "\n",
              "      <script>\n",
              "        const buttonEl =\n",
              "          document.querySelector('#df-1c6d9c6f-308f-4943-875f-6b9ae1608a78 button.colab-df-convert');\n",
              "        buttonEl.style.display =\n",
              "          google.colab.kernel.accessAllowed ? 'block' : 'none';\n",
              "\n",
              "        async function convertToInteractive(key) {\n",
              "          const element = document.querySelector('#df-1c6d9c6f-308f-4943-875f-6b9ae1608a78');\n",
              "          const dataTable =\n",
              "            await google.colab.kernel.invokeFunction('convertToInteractive',\n",
              "                                                     [key], {});\n",
              "          if (!dataTable) return;\n",
              "\n",
              "          const docLinkHtml = 'Like what you see? Visit the ' +\n",
              "            '<a target=\"_blank\" href=https://colab.research.google.com/notebooks/data_table.ipynb>data table notebook</a>'\n",
              "            + ' to learn more about interactive tables.';\n",
              "          element.innerHTML = '';\n",
              "          dataTable['output_type'] = 'display_data';\n",
              "          await google.colab.output.renderOutput(dataTable, element);\n",
              "          const docLink = document.createElement('div');\n",
              "          docLink.innerHTML = docLinkHtml;\n",
              "          element.appendChild(docLink);\n",
              "        }\n",
              "      </script>\n",
              "    </div>\n",
              "  </div>\n",
              "  "
            ]
          },
          "metadata": {},
          "execution_count": 56
        }
      ]
    },
    {
      "cell_type": "code",
      "metadata": {
        "colab": {
          "base_uri": "https://localhost:8080/"
        },
        "id": "F-7i7eqQehUo",
        "outputId": "0fd4ef2b-190d-4622-8448-71aff0b73ae6"
      },
      "source": [
        "dados_paises_covid_dead.dtypes"
      ],
      "execution_count": 57,
      "outputs": [
        {
          "output_type": "execute_result",
          "data": {
            "text/plain": [
              "province            object\n",
              "country             object\n",
              "Lat                float64\n",
              "Long               float64\n",
              "date        datetime64[ns]\n",
              "dead                 int64\n",
              "dtype: object"
            ]
          },
          "metadata": {},
          "execution_count": 57
        }
      ]
    },
    {
      "cell_type": "markdown",
      "metadata": {
        "id": "D16RNZgTS9wJ"
      },
      "source": [
        "- Combinar os datasets"
      ]
    },
    {
      "cell_type": "code",
      "metadata": {
        "colab": {
          "base_uri": "https://localhost:8080/"
        },
        "id": "f4zOkqqRXRd3",
        "outputId": "8169359f-2210-457c-a9e0-0f7d719d7311"
      },
      "source": [
        "dados_paises_covid.shape"
      ],
      "execution_count": 58,
      "outputs": [
        {
          "output_type": "execute_result",
          "data": {
            "text/plain": [
              "(330327, 6)"
            ]
          },
          "metadata": {},
          "execution_count": 58
        }
      ]
    },
    {
      "cell_type": "code",
      "metadata": {
        "colab": {
          "base_uri": "https://localhost:8080/"
        },
        "id": "X8OoawEVXRi7",
        "outputId": "79cbaf06-16a4-4b72-8fb8-60f5345335bc"
      },
      "source": [
        "dados_paises_covid_dead.shape"
      ],
      "execution_count": 59,
      "outputs": [
        {
          "output_type": "execute_result",
          "data": {
            "text/plain": [
              "(330327, 6)"
            ]
          },
          "metadata": {},
          "execution_count": 59
        }
      ]
    },
    {
      "cell_type": "code",
      "metadata": {
        "id": "vMV2x0qJXRnA"
      },
      "source": [
        "dados_covid = pd.merge(dados_paises_covid, dados_paises_covid_dead, \n",
        "                       on = ['province', 'country',\t'Lat',\t'Long',\t'date'], \n",
        "                       how = 'inner')"
      ],
      "execution_count": 60,
      "outputs": []
    },
    {
      "cell_type": "code",
      "metadata": {
        "colab": {
          "base_uri": "https://localhost:8080/",
          "height": 206
        },
        "id": "q3De0qHYXRrY",
        "outputId": "8a829551-a516-484a-8aa4-999346489194"
      },
      "source": [
        "dados_covid.head()"
      ],
      "execution_count": 61,
      "outputs": [
        {
          "output_type": "execute_result",
          "data": {
            "text/plain": [
              "  province      country       Lat       Long       date  infected  dead\n",
              "0      NaN  Afghanistan  33.93911  67.709953 2020-01-22         0     0\n",
              "1      NaN      Albania  41.15330  20.168300 2020-01-22         0     0\n",
              "2      NaN      Algeria  28.03390   1.659600 2020-01-22         0     0\n",
              "3      NaN      Andorra  42.50630   1.521800 2020-01-22         0     0\n",
              "4      NaN       Angola -11.20270  17.873900 2020-01-22         0     0"
            ],
            "text/html": [
              "\n",
              "  <div id=\"df-374c610f-ba9d-4673-bebb-21ad8eccb16a\">\n",
              "    <div class=\"colab-df-container\">\n",
              "      <div>\n",
              "<style scoped>\n",
              "    .dataframe tbody tr th:only-of-type {\n",
              "        vertical-align: middle;\n",
              "    }\n",
              "\n",
              "    .dataframe tbody tr th {\n",
              "        vertical-align: top;\n",
              "    }\n",
              "\n",
              "    .dataframe thead th {\n",
              "        text-align: right;\n",
              "    }\n",
              "</style>\n",
              "<table border=\"1\" class=\"dataframe\">\n",
              "  <thead>\n",
              "    <tr style=\"text-align: right;\">\n",
              "      <th></th>\n",
              "      <th>province</th>\n",
              "      <th>country</th>\n",
              "      <th>Lat</th>\n",
              "      <th>Long</th>\n",
              "      <th>date</th>\n",
              "      <th>infected</th>\n",
              "      <th>dead</th>\n",
              "    </tr>\n",
              "  </thead>\n",
              "  <tbody>\n",
              "    <tr>\n",
              "      <th>0</th>\n",
              "      <td>NaN</td>\n",
              "      <td>Afghanistan</td>\n",
              "      <td>33.93911</td>\n",
              "      <td>67.709953</td>\n",
              "      <td>2020-01-22</td>\n",
              "      <td>0</td>\n",
              "      <td>0</td>\n",
              "    </tr>\n",
              "    <tr>\n",
              "      <th>1</th>\n",
              "      <td>NaN</td>\n",
              "      <td>Albania</td>\n",
              "      <td>41.15330</td>\n",
              "      <td>20.168300</td>\n",
              "      <td>2020-01-22</td>\n",
              "      <td>0</td>\n",
              "      <td>0</td>\n",
              "    </tr>\n",
              "    <tr>\n",
              "      <th>2</th>\n",
              "      <td>NaN</td>\n",
              "      <td>Algeria</td>\n",
              "      <td>28.03390</td>\n",
              "      <td>1.659600</td>\n",
              "      <td>2020-01-22</td>\n",
              "      <td>0</td>\n",
              "      <td>0</td>\n",
              "    </tr>\n",
              "    <tr>\n",
              "      <th>3</th>\n",
              "      <td>NaN</td>\n",
              "      <td>Andorra</td>\n",
              "      <td>42.50630</td>\n",
              "      <td>1.521800</td>\n",
              "      <td>2020-01-22</td>\n",
              "      <td>0</td>\n",
              "      <td>0</td>\n",
              "    </tr>\n",
              "    <tr>\n",
              "      <th>4</th>\n",
              "      <td>NaN</td>\n",
              "      <td>Angola</td>\n",
              "      <td>-11.20270</td>\n",
              "      <td>17.873900</td>\n",
              "      <td>2020-01-22</td>\n",
              "      <td>0</td>\n",
              "      <td>0</td>\n",
              "    </tr>\n",
              "  </tbody>\n",
              "</table>\n",
              "</div>\n",
              "      <button class=\"colab-df-convert\" onclick=\"convertToInteractive('df-374c610f-ba9d-4673-bebb-21ad8eccb16a')\"\n",
              "              title=\"Convert this dataframe to an interactive table.\"\n",
              "              style=\"display:none;\">\n",
              "        \n",
              "  <svg xmlns=\"http://www.w3.org/2000/svg\" height=\"24px\"viewBox=\"0 0 24 24\"\n",
              "       width=\"24px\">\n",
              "    <path d=\"M0 0h24v24H0V0z\" fill=\"none\"/>\n",
              "    <path d=\"M18.56 5.44l.94 2.06.94-2.06 2.06-.94-2.06-.94-.94-2.06-.94 2.06-2.06.94zm-11 1L8.5 8.5l.94-2.06 2.06-.94-2.06-.94L8.5 2.5l-.94 2.06-2.06.94zm10 10l.94 2.06.94-2.06 2.06-.94-2.06-.94-.94-2.06-.94 2.06-2.06.94z\"/><path d=\"M17.41 7.96l-1.37-1.37c-.4-.4-.92-.59-1.43-.59-.52 0-1.04.2-1.43.59L10.3 9.45l-7.72 7.72c-.78.78-.78 2.05 0 2.83L4 21.41c.39.39.9.59 1.41.59.51 0 1.02-.2 1.41-.59l7.78-7.78 2.81-2.81c.8-.78.8-2.07 0-2.86zM5.41 20L4 18.59l7.72-7.72 1.47 1.35L5.41 20z\"/>\n",
              "  </svg>\n",
              "      </button>\n",
              "      \n",
              "  <style>\n",
              "    .colab-df-container {\n",
              "      display:flex;\n",
              "      flex-wrap:wrap;\n",
              "      gap: 12px;\n",
              "    }\n",
              "\n",
              "    .colab-df-convert {\n",
              "      background-color: #E8F0FE;\n",
              "      border: none;\n",
              "      border-radius: 50%;\n",
              "      cursor: pointer;\n",
              "      display: none;\n",
              "      fill: #1967D2;\n",
              "      height: 32px;\n",
              "      padding: 0 0 0 0;\n",
              "      width: 32px;\n",
              "    }\n",
              "\n",
              "    .colab-df-convert:hover {\n",
              "      background-color: #E2EBFA;\n",
              "      box-shadow: 0px 1px 2px rgba(60, 64, 67, 0.3), 0px 1px 3px 1px rgba(60, 64, 67, 0.15);\n",
              "      fill: #174EA6;\n",
              "    }\n",
              "\n",
              "    [theme=dark] .colab-df-convert {\n",
              "      background-color: #3B4455;\n",
              "      fill: #D2E3FC;\n",
              "    }\n",
              "\n",
              "    [theme=dark] .colab-df-convert:hover {\n",
              "      background-color: #434B5C;\n",
              "      box-shadow: 0px 1px 3px 1px rgba(0, 0, 0, 0.15);\n",
              "      filter: drop-shadow(0px 1px 2px rgba(0, 0, 0, 0.3));\n",
              "      fill: #FFFFFF;\n",
              "    }\n",
              "  </style>\n",
              "\n",
              "      <script>\n",
              "        const buttonEl =\n",
              "          document.querySelector('#df-374c610f-ba9d-4673-bebb-21ad8eccb16a button.colab-df-convert');\n",
              "        buttonEl.style.display =\n",
              "          google.colab.kernel.accessAllowed ? 'block' : 'none';\n",
              "\n",
              "        async function convertToInteractive(key) {\n",
              "          const element = document.querySelector('#df-374c610f-ba9d-4673-bebb-21ad8eccb16a');\n",
              "          const dataTable =\n",
              "            await google.colab.kernel.invokeFunction('convertToInteractive',\n",
              "                                                     [key], {});\n",
              "          if (!dataTable) return;\n",
              "\n",
              "          const docLinkHtml = 'Like what you see? Visit the ' +\n",
              "            '<a target=\"_blank\" href=https://colab.research.google.com/notebooks/data_table.ipynb>data table notebook</a>'\n",
              "            + ' to learn more about interactive tables.';\n",
              "          element.innerHTML = '';\n",
              "          dataTable['output_type'] = 'display_data';\n",
              "          await google.colab.output.renderOutput(dataTable, element);\n",
              "          const docLink = document.createElement('div');\n",
              "          docLink.innerHTML = docLinkHtml;\n",
              "          element.appendChild(docLink);\n",
              "        }\n",
              "      </script>\n",
              "    </div>\n",
              "  </div>\n",
              "  "
            ]
          },
          "metadata": {},
          "execution_count": 61
        }
      ]
    },
    {
      "cell_type": "code",
      "metadata": {
        "colab": {
          "base_uri": "https://localhost:8080/"
        },
        "id": "ixhzuKJPIDzV",
        "outputId": "145601e0-8c82-4460-f454-b312532ffb64"
      },
      "source": [
        "dados_covid.shape"
      ],
      "execution_count": 62,
      "outputs": [
        {
          "output_type": "execute_result",
          "data": {
            "text/plain": [
              "(330327, 7)"
            ]
          },
          "metadata": {},
          "execution_count": 62
        }
      ]
    },
    {
      "cell_type": "markdown",
      "metadata": {
        "id": "FYba1y-bXRvH"
      },
      "source": [
        "## Aqui começa o trabalho\n",
        "\n"
      ]
    },
    {
      "cell_type": "markdown",
      "source": [
        "#GRUPO:\n",
        "\n",
        ">GABRIEL DE SOUZA DENTE - RM550796 \n",
        ">GIOVANNA GONÇALVES DE ALMINDO - RM99992 \n",
        ">LEANDRO DIAS VIEIRA - RM550997 \n",
        ">LUCAS NAKANISHI BECK DEPIERI - RM552092 \n",
        ">SILVIA LIMA CARNEIRO ARAUJO - RM98833"
      ],
      "metadata": {
        "id": "5gDtO2LtIfgq"
      }
    },
    {
      "cell_type": "markdown",
      "metadata": {
        "id": "25Myn6X976aD"
      },
      "source": [
        "## Questão 1. Quantos países existem no banco de dados?"
      ]
    },
    {
      "cell_type": "code",
      "metadata": {
        "id": "spTx0qJ4TQ10"
      },
      "source": [
        "paises_atualizados = dados_covid[(dados_covid['country'] != 'Antarctica') & (dados_covid['country'] != 'Diamond Princess') & (dados_covid['country'] != 'MS Zaandam')\n",
        "& (dados_covid['country'] != 'Summer Olympics 2020') & (dados_covid['country'] != 'Winter Olympics 2022') & (dados_covid['province'] != 'Diamond Princess')]"
      ],
      "execution_count": 63,
      "outputs": []
    },
    {
      "cell_type": "code",
      "source": [
        "len(paises_atualizados['country'].unique())"
      ],
      "metadata": {
        "colab": {
          "base_uri": "https://localhost:8080/"
        },
        "id": "vI4YSN582e0c",
        "outputId": "3e6a8a81-3e2a-4121-9a1d-f5148968a45d"
      },
      "execution_count": 64,
      "outputs": [
        {
          "output_type": "execute_result",
          "data": {
            "text/plain": [
              "196"
            ]
          },
          "metadata": {},
          "execution_count": 64
        }
      ]
    },
    {
      "cell_type": "markdown",
      "source": [
        "## Questão 2. Quantos casos de infectados e mortes Brasil, Itália e E.U.A. possuem até o momento?"
      ],
      "metadata": {
        "id": "95l4Hf1duVqF"
      }
    },
    {
      "cell_type": "code",
      "source": [
        "paises_atualizados[paises_atualizados['country'].isin ([ 'Italy' , 'Brazil' , 'US'])& (paises_atualizados['date'] == '2022-03-20')]"
      ],
      "metadata": {
        "colab": {
          "base_uri": "https://localhost:8080/",
          "height": 143
        },
        "id": "MgMZiCs2cO2d",
        "outputId": "33cc3244-e36f-4cbc-cf44-71b5e3acf1b8"
      },
      "execution_count": 65,
      "outputs": [
        {
          "output_type": "execute_result",
          "data": {
            "text/plain": [
              "       province country       Lat       Long       date  infected    dead\n",
              "227763      NaN  Brazil -14.23500  -51.92530 2022-03-20  29637814  657495\n",
              "227886      NaN   Italy  41.87194   12.56738 2022-03-20  13861743  157785\n",
              "227992      NaN      US  40.00000 -100.00000 2022-03-20  79867776  974314"
            ],
            "text/html": [
              "\n",
              "  <div id=\"df-9fe895e9-b229-43bc-ab62-e300b6419cbd\">\n",
              "    <div class=\"colab-df-container\">\n",
              "      <div>\n",
              "<style scoped>\n",
              "    .dataframe tbody tr th:only-of-type {\n",
              "        vertical-align: middle;\n",
              "    }\n",
              "\n",
              "    .dataframe tbody tr th {\n",
              "        vertical-align: top;\n",
              "    }\n",
              "\n",
              "    .dataframe thead th {\n",
              "        text-align: right;\n",
              "    }\n",
              "</style>\n",
              "<table border=\"1\" class=\"dataframe\">\n",
              "  <thead>\n",
              "    <tr style=\"text-align: right;\">\n",
              "      <th></th>\n",
              "      <th>province</th>\n",
              "      <th>country</th>\n",
              "      <th>Lat</th>\n",
              "      <th>Long</th>\n",
              "      <th>date</th>\n",
              "      <th>infected</th>\n",
              "      <th>dead</th>\n",
              "    </tr>\n",
              "  </thead>\n",
              "  <tbody>\n",
              "    <tr>\n",
              "      <th>227763</th>\n",
              "      <td>NaN</td>\n",
              "      <td>Brazil</td>\n",
              "      <td>-14.23500</td>\n",
              "      <td>-51.92530</td>\n",
              "      <td>2022-03-20</td>\n",
              "      <td>29637814</td>\n",
              "      <td>657495</td>\n",
              "    </tr>\n",
              "    <tr>\n",
              "      <th>227886</th>\n",
              "      <td>NaN</td>\n",
              "      <td>Italy</td>\n",
              "      <td>41.87194</td>\n",
              "      <td>12.56738</td>\n",
              "      <td>2022-03-20</td>\n",
              "      <td>13861743</td>\n",
              "      <td>157785</td>\n",
              "    </tr>\n",
              "    <tr>\n",
              "      <th>227992</th>\n",
              "      <td>NaN</td>\n",
              "      <td>US</td>\n",
              "      <td>40.00000</td>\n",
              "      <td>-100.00000</td>\n",
              "      <td>2022-03-20</td>\n",
              "      <td>79867776</td>\n",
              "      <td>974314</td>\n",
              "    </tr>\n",
              "  </tbody>\n",
              "</table>\n",
              "</div>\n",
              "      <button class=\"colab-df-convert\" onclick=\"convertToInteractive('df-9fe895e9-b229-43bc-ab62-e300b6419cbd')\"\n",
              "              title=\"Convert this dataframe to an interactive table.\"\n",
              "              style=\"display:none;\">\n",
              "        \n",
              "  <svg xmlns=\"http://www.w3.org/2000/svg\" height=\"24px\"viewBox=\"0 0 24 24\"\n",
              "       width=\"24px\">\n",
              "    <path d=\"M0 0h24v24H0V0z\" fill=\"none\"/>\n",
              "    <path d=\"M18.56 5.44l.94 2.06.94-2.06 2.06-.94-2.06-.94-.94-2.06-.94 2.06-2.06.94zm-11 1L8.5 8.5l.94-2.06 2.06-.94-2.06-.94L8.5 2.5l-.94 2.06-2.06.94zm10 10l.94 2.06.94-2.06 2.06-.94-2.06-.94-.94-2.06-.94 2.06-2.06.94z\"/><path d=\"M17.41 7.96l-1.37-1.37c-.4-.4-.92-.59-1.43-.59-.52 0-1.04.2-1.43.59L10.3 9.45l-7.72 7.72c-.78.78-.78 2.05 0 2.83L4 21.41c.39.39.9.59 1.41.59.51 0 1.02-.2 1.41-.59l7.78-7.78 2.81-2.81c.8-.78.8-2.07 0-2.86zM5.41 20L4 18.59l7.72-7.72 1.47 1.35L5.41 20z\"/>\n",
              "  </svg>\n",
              "      </button>\n",
              "      \n",
              "  <style>\n",
              "    .colab-df-container {\n",
              "      display:flex;\n",
              "      flex-wrap:wrap;\n",
              "      gap: 12px;\n",
              "    }\n",
              "\n",
              "    .colab-df-convert {\n",
              "      background-color: #E8F0FE;\n",
              "      border: none;\n",
              "      border-radius: 50%;\n",
              "      cursor: pointer;\n",
              "      display: none;\n",
              "      fill: #1967D2;\n",
              "      height: 32px;\n",
              "      padding: 0 0 0 0;\n",
              "      width: 32px;\n",
              "    }\n",
              "\n",
              "    .colab-df-convert:hover {\n",
              "      background-color: #E2EBFA;\n",
              "      box-shadow: 0px 1px 2px rgba(60, 64, 67, 0.3), 0px 1px 3px 1px rgba(60, 64, 67, 0.15);\n",
              "      fill: #174EA6;\n",
              "    }\n",
              "\n",
              "    [theme=dark] .colab-df-convert {\n",
              "      background-color: #3B4455;\n",
              "      fill: #D2E3FC;\n",
              "    }\n",
              "\n",
              "    [theme=dark] .colab-df-convert:hover {\n",
              "      background-color: #434B5C;\n",
              "      box-shadow: 0px 1px 3px 1px rgba(0, 0, 0, 0.15);\n",
              "      filter: drop-shadow(0px 1px 2px rgba(0, 0, 0, 0.3));\n",
              "      fill: #FFFFFF;\n",
              "    }\n",
              "  </style>\n",
              "\n",
              "      <script>\n",
              "        const buttonEl =\n",
              "          document.querySelector('#df-9fe895e9-b229-43bc-ab62-e300b6419cbd button.colab-df-convert');\n",
              "        buttonEl.style.display =\n",
              "          google.colab.kernel.accessAllowed ? 'block' : 'none';\n",
              "\n",
              "        async function convertToInteractive(key) {\n",
              "          const element = document.querySelector('#df-9fe895e9-b229-43bc-ab62-e300b6419cbd');\n",
              "          const dataTable =\n",
              "            await google.colab.kernel.invokeFunction('convertToInteractive',\n",
              "                                                     [key], {});\n",
              "          if (!dataTable) return;\n",
              "\n",
              "          const docLinkHtml = 'Like what you see? Visit the ' +\n",
              "            '<a target=\"_blank\" href=https://colab.research.google.com/notebooks/data_table.ipynb>data table notebook</a>'\n",
              "            + ' to learn more about interactive tables.';\n",
              "          element.innerHTML = '';\n",
              "          dataTable['output_type'] = 'display_data';\n",
              "          await google.colab.output.renderOutput(dataTable, element);\n",
              "          const docLink = document.createElement('div');\n",
              "          docLink.innerHTML = docLinkHtml;\n",
              "          element.appendChild(docLink);\n",
              "        }\n",
              "      </script>\n",
              "    </div>\n",
              "  </div>\n",
              "  "
            ]
          },
          "metadata": {},
          "execution_count": 65
        }
      ]
    },
    {
      "cell_type": "markdown",
      "source": [
        "## Questao 3. Quais os 10 países que possuem os maiores valores de infectados? E quais os 10 de maiores mortes?"
      ],
      "metadata": {
        "id": "5YYucooDvnpD"
      }
    },
    {
      "cell_type": "code",
      "source": [
        "ranking_infected = paises_atualizados.sort_values('infected', ascending = False)\n",
        "ranking_infected[ranking_infected['date'] == '2022-03-20'].head(10)"
      ],
      "metadata": {
        "id": "iTZ4EcJfuZLF",
        "colab": {
          "base_uri": "https://localhost:8080/",
          "height": 363
        },
        "outputId": "6b6c741b-fe16-465e-c96f-47f38bc1c381"
      },
      "execution_count": 66,
      "outputs": [
        {
          "output_type": "execute_result",
          "data": {
            "text/plain": [
              "       province         country        Lat        Long       date  infected  \\\n",
              "227992      NaN              US  40.000000 -100.000000 2022-03-20  79867776   \n",
              "227880      NaN           India  20.593684   78.962880 2022-03-20  43009390   \n",
              "227763      NaN          Brazil -14.235000  -51.925300 2022-03-20  29637814   \n",
              "227863      NaN          France  46.227600    2.213700 2022-03-20  23477062   \n",
              "228010      NaN  United Kingdom  55.378100   -3.436000 2022-03-20  20093762   \n",
              "227867      NaN         Germany  51.165691   10.451526 2022-03-20  18287986   \n",
              "227953      NaN          Russia  61.524010  105.318756 2022-03-20  17327694   \n",
              "227990      NaN          Turkey  38.963700   35.243300 2022-03-20  14693917   \n",
              "227886      NaN           Italy  41.871940   12.567380 2022-03-20  13861743   \n",
              "227973      NaN           Spain  40.463667   -3.749220 2022-03-20  11324637   \n",
              "\n",
              "          dead  \n",
              "227992  974314  \n",
              "227880  516510  \n",
              "227763  657495  \n",
              "227863  137831  \n",
              "228010  190536  \n",
              "227867  126646  \n",
              "227953  357234  \n",
              "227990   97267  \n",
              "227886  157785  \n",
              "227973  101703  "
            ],
            "text/html": [
              "\n",
              "  <div id=\"df-85e3c7cb-7fe7-4382-9d2d-cabd3a4183ce\">\n",
              "    <div class=\"colab-df-container\">\n",
              "      <div>\n",
              "<style scoped>\n",
              "    .dataframe tbody tr th:only-of-type {\n",
              "        vertical-align: middle;\n",
              "    }\n",
              "\n",
              "    .dataframe tbody tr th {\n",
              "        vertical-align: top;\n",
              "    }\n",
              "\n",
              "    .dataframe thead th {\n",
              "        text-align: right;\n",
              "    }\n",
              "</style>\n",
              "<table border=\"1\" class=\"dataframe\">\n",
              "  <thead>\n",
              "    <tr style=\"text-align: right;\">\n",
              "      <th></th>\n",
              "      <th>province</th>\n",
              "      <th>country</th>\n",
              "      <th>Lat</th>\n",
              "      <th>Long</th>\n",
              "      <th>date</th>\n",
              "      <th>infected</th>\n",
              "      <th>dead</th>\n",
              "    </tr>\n",
              "  </thead>\n",
              "  <tbody>\n",
              "    <tr>\n",
              "      <th>227992</th>\n",
              "      <td>NaN</td>\n",
              "      <td>US</td>\n",
              "      <td>40.000000</td>\n",
              "      <td>-100.000000</td>\n",
              "      <td>2022-03-20</td>\n",
              "      <td>79867776</td>\n",
              "      <td>974314</td>\n",
              "    </tr>\n",
              "    <tr>\n",
              "      <th>227880</th>\n",
              "      <td>NaN</td>\n",
              "      <td>India</td>\n",
              "      <td>20.593684</td>\n",
              "      <td>78.962880</td>\n",
              "      <td>2022-03-20</td>\n",
              "      <td>43009390</td>\n",
              "      <td>516510</td>\n",
              "    </tr>\n",
              "    <tr>\n",
              "      <th>227763</th>\n",
              "      <td>NaN</td>\n",
              "      <td>Brazil</td>\n",
              "      <td>-14.235000</td>\n",
              "      <td>-51.925300</td>\n",
              "      <td>2022-03-20</td>\n",
              "      <td>29637814</td>\n",
              "      <td>657495</td>\n",
              "    </tr>\n",
              "    <tr>\n",
              "      <th>227863</th>\n",
              "      <td>NaN</td>\n",
              "      <td>France</td>\n",
              "      <td>46.227600</td>\n",
              "      <td>2.213700</td>\n",
              "      <td>2022-03-20</td>\n",
              "      <td>23477062</td>\n",
              "      <td>137831</td>\n",
              "    </tr>\n",
              "    <tr>\n",
              "      <th>228010</th>\n",
              "      <td>NaN</td>\n",
              "      <td>United Kingdom</td>\n",
              "      <td>55.378100</td>\n",
              "      <td>-3.436000</td>\n",
              "      <td>2022-03-20</td>\n",
              "      <td>20093762</td>\n",
              "      <td>190536</td>\n",
              "    </tr>\n",
              "    <tr>\n",
              "      <th>227867</th>\n",
              "      <td>NaN</td>\n",
              "      <td>Germany</td>\n",
              "      <td>51.165691</td>\n",
              "      <td>10.451526</td>\n",
              "      <td>2022-03-20</td>\n",
              "      <td>18287986</td>\n",
              "      <td>126646</td>\n",
              "    </tr>\n",
              "    <tr>\n",
              "      <th>227953</th>\n",
              "      <td>NaN</td>\n",
              "      <td>Russia</td>\n",
              "      <td>61.524010</td>\n",
              "      <td>105.318756</td>\n",
              "      <td>2022-03-20</td>\n",
              "      <td>17327694</td>\n",
              "      <td>357234</td>\n",
              "    </tr>\n",
              "    <tr>\n",
              "      <th>227990</th>\n",
              "      <td>NaN</td>\n",
              "      <td>Turkey</td>\n",
              "      <td>38.963700</td>\n",
              "      <td>35.243300</td>\n",
              "      <td>2022-03-20</td>\n",
              "      <td>14693917</td>\n",
              "      <td>97267</td>\n",
              "    </tr>\n",
              "    <tr>\n",
              "      <th>227886</th>\n",
              "      <td>NaN</td>\n",
              "      <td>Italy</td>\n",
              "      <td>41.871940</td>\n",
              "      <td>12.567380</td>\n",
              "      <td>2022-03-20</td>\n",
              "      <td>13861743</td>\n",
              "      <td>157785</td>\n",
              "    </tr>\n",
              "    <tr>\n",
              "      <th>227973</th>\n",
              "      <td>NaN</td>\n",
              "      <td>Spain</td>\n",
              "      <td>40.463667</td>\n",
              "      <td>-3.749220</td>\n",
              "      <td>2022-03-20</td>\n",
              "      <td>11324637</td>\n",
              "      <td>101703</td>\n",
              "    </tr>\n",
              "  </tbody>\n",
              "</table>\n",
              "</div>\n",
              "      <button class=\"colab-df-convert\" onclick=\"convertToInteractive('df-85e3c7cb-7fe7-4382-9d2d-cabd3a4183ce')\"\n",
              "              title=\"Convert this dataframe to an interactive table.\"\n",
              "              style=\"display:none;\">\n",
              "        \n",
              "  <svg xmlns=\"http://www.w3.org/2000/svg\" height=\"24px\"viewBox=\"0 0 24 24\"\n",
              "       width=\"24px\">\n",
              "    <path d=\"M0 0h24v24H0V0z\" fill=\"none\"/>\n",
              "    <path d=\"M18.56 5.44l.94 2.06.94-2.06 2.06-.94-2.06-.94-.94-2.06-.94 2.06-2.06.94zm-11 1L8.5 8.5l.94-2.06 2.06-.94-2.06-.94L8.5 2.5l-.94 2.06-2.06.94zm10 10l.94 2.06.94-2.06 2.06-.94-2.06-.94-.94-2.06-.94 2.06-2.06.94z\"/><path d=\"M17.41 7.96l-1.37-1.37c-.4-.4-.92-.59-1.43-.59-.52 0-1.04.2-1.43.59L10.3 9.45l-7.72 7.72c-.78.78-.78 2.05 0 2.83L4 21.41c.39.39.9.59 1.41.59.51 0 1.02-.2 1.41-.59l7.78-7.78 2.81-2.81c.8-.78.8-2.07 0-2.86zM5.41 20L4 18.59l7.72-7.72 1.47 1.35L5.41 20z\"/>\n",
              "  </svg>\n",
              "      </button>\n",
              "      \n",
              "  <style>\n",
              "    .colab-df-container {\n",
              "      display:flex;\n",
              "      flex-wrap:wrap;\n",
              "      gap: 12px;\n",
              "    }\n",
              "\n",
              "    .colab-df-convert {\n",
              "      background-color: #E8F0FE;\n",
              "      border: none;\n",
              "      border-radius: 50%;\n",
              "      cursor: pointer;\n",
              "      display: none;\n",
              "      fill: #1967D2;\n",
              "      height: 32px;\n",
              "      padding: 0 0 0 0;\n",
              "      width: 32px;\n",
              "    }\n",
              "\n",
              "    .colab-df-convert:hover {\n",
              "      background-color: #E2EBFA;\n",
              "      box-shadow: 0px 1px 2px rgba(60, 64, 67, 0.3), 0px 1px 3px 1px rgba(60, 64, 67, 0.15);\n",
              "      fill: #174EA6;\n",
              "    }\n",
              "\n",
              "    [theme=dark] .colab-df-convert {\n",
              "      background-color: #3B4455;\n",
              "      fill: #D2E3FC;\n",
              "    }\n",
              "\n",
              "    [theme=dark] .colab-df-convert:hover {\n",
              "      background-color: #434B5C;\n",
              "      box-shadow: 0px 1px 3px 1px rgba(0, 0, 0, 0.15);\n",
              "      filter: drop-shadow(0px 1px 2px rgba(0, 0, 0, 0.3));\n",
              "      fill: #FFFFFF;\n",
              "    }\n",
              "  </style>\n",
              "\n",
              "      <script>\n",
              "        const buttonEl =\n",
              "          document.querySelector('#df-85e3c7cb-7fe7-4382-9d2d-cabd3a4183ce button.colab-df-convert');\n",
              "        buttonEl.style.display =\n",
              "          google.colab.kernel.accessAllowed ? 'block' : 'none';\n",
              "\n",
              "        async function convertToInteractive(key) {\n",
              "          const element = document.querySelector('#df-85e3c7cb-7fe7-4382-9d2d-cabd3a4183ce');\n",
              "          const dataTable =\n",
              "            await google.colab.kernel.invokeFunction('convertToInteractive',\n",
              "                                                     [key], {});\n",
              "          if (!dataTable) return;\n",
              "\n",
              "          const docLinkHtml = 'Like what you see? Visit the ' +\n",
              "            '<a target=\"_blank\" href=https://colab.research.google.com/notebooks/data_table.ipynb>data table notebook</a>'\n",
              "            + ' to learn more about interactive tables.';\n",
              "          element.innerHTML = '';\n",
              "          dataTable['output_type'] = 'display_data';\n",
              "          await google.colab.output.renderOutput(dataTable, element);\n",
              "          const docLink = document.createElement('div');\n",
              "          docLink.innerHTML = docLinkHtml;\n",
              "          element.appendChild(docLink);\n",
              "        }\n",
              "      </script>\n",
              "    </div>\n",
              "  </div>\n",
              "  "
            ]
          },
          "metadata": {},
          "execution_count": 66
        }
      ]
    },
    {
      "cell_type": "code",
      "source": [
        "ranking_mortos = paises_atualizados.sort_values('dead', ascending = False)\n",
        "ranking_infected[ranking_infected['date'] == '2022-03-20'].head(10)"
      ],
      "metadata": {
        "id": "SDl-lQ_EoUaD",
        "colab": {
          "base_uri": "https://localhost:8080/",
          "height": 363
        },
        "outputId": "fcc63306-08ff-4e3d-9437-771e025ccf12"
      },
      "execution_count": 67,
      "outputs": [
        {
          "output_type": "execute_result",
          "data": {
            "text/plain": [
              "       province         country        Lat        Long       date  infected  \\\n",
              "227992      NaN              US  40.000000 -100.000000 2022-03-20  79867776   \n",
              "227880      NaN           India  20.593684   78.962880 2022-03-20  43009390   \n",
              "227763      NaN          Brazil -14.235000  -51.925300 2022-03-20  29637814   \n",
              "227863      NaN          France  46.227600    2.213700 2022-03-20  23477062   \n",
              "228010      NaN  United Kingdom  55.378100   -3.436000 2022-03-20  20093762   \n",
              "227867      NaN         Germany  51.165691   10.451526 2022-03-20  18287986   \n",
              "227953      NaN          Russia  61.524010  105.318756 2022-03-20  17327694   \n",
              "227990      NaN          Turkey  38.963700   35.243300 2022-03-20  14693917   \n",
              "227886      NaN           Italy  41.871940   12.567380 2022-03-20  13861743   \n",
              "227973      NaN           Spain  40.463667   -3.749220 2022-03-20  11324637   \n",
              "\n",
              "          dead  \n",
              "227992  974314  \n",
              "227880  516510  \n",
              "227763  657495  \n",
              "227863  137831  \n",
              "228010  190536  \n",
              "227867  126646  \n",
              "227953  357234  \n",
              "227990   97267  \n",
              "227886  157785  \n",
              "227973  101703  "
            ],
            "text/html": [
              "\n",
              "  <div id=\"df-e30feb37-a3d5-45f7-85a3-a5f0b0a649a8\">\n",
              "    <div class=\"colab-df-container\">\n",
              "      <div>\n",
              "<style scoped>\n",
              "    .dataframe tbody tr th:only-of-type {\n",
              "        vertical-align: middle;\n",
              "    }\n",
              "\n",
              "    .dataframe tbody tr th {\n",
              "        vertical-align: top;\n",
              "    }\n",
              "\n",
              "    .dataframe thead th {\n",
              "        text-align: right;\n",
              "    }\n",
              "</style>\n",
              "<table border=\"1\" class=\"dataframe\">\n",
              "  <thead>\n",
              "    <tr style=\"text-align: right;\">\n",
              "      <th></th>\n",
              "      <th>province</th>\n",
              "      <th>country</th>\n",
              "      <th>Lat</th>\n",
              "      <th>Long</th>\n",
              "      <th>date</th>\n",
              "      <th>infected</th>\n",
              "      <th>dead</th>\n",
              "    </tr>\n",
              "  </thead>\n",
              "  <tbody>\n",
              "    <tr>\n",
              "      <th>227992</th>\n",
              "      <td>NaN</td>\n",
              "      <td>US</td>\n",
              "      <td>40.000000</td>\n",
              "      <td>-100.000000</td>\n",
              "      <td>2022-03-20</td>\n",
              "      <td>79867776</td>\n",
              "      <td>974314</td>\n",
              "    </tr>\n",
              "    <tr>\n",
              "      <th>227880</th>\n",
              "      <td>NaN</td>\n",
              "      <td>India</td>\n",
              "      <td>20.593684</td>\n",
              "      <td>78.962880</td>\n",
              "      <td>2022-03-20</td>\n",
              "      <td>43009390</td>\n",
              "      <td>516510</td>\n",
              "    </tr>\n",
              "    <tr>\n",
              "      <th>227763</th>\n",
              "      <td>NaN</td>\n",
              "      <td>Brazil</td>\n",
              "      <td>-14.235000</td>\n",
              "      <td>-51.925300</td>\n",
              "      <td>2022-03-20</td>\n",
              "      <td>29637814</td>\n",
              "      <td>657495</td>\n",
              "    </tr>\n",
              "    <tr>\n",
              "      <th>227863</th>\n",
              "      <td>NaN</td>\n",
              "      <td>France</td>\n",
              "      <td>46.227600</td>\n",
              "      <td>2.213700</td>\n",
              "      <td>2022-03-20</td>\n",
              "      <td>23477062</td>\n",
              "      <td>137831</td>\n",
              "    </tr>\n",
              "    <tr>\n",
              "      <th>228010</th>\n",
              "      <td>NaN</td>\n",
              "      <td>United Kingdom</td>\n",
              "      <td>55.378100</td>\n",
              "      <td>-3.436000</td>\n",
              "      <td>2022-03-20</td>\n",
              "      <td>20093762</td>\n",
              "      <td>190536</td>\n",
              "    </tr>\n",
              "    <tr>\n",
              "      <th>227867</th>\n",
              "      <td>NaN</td>\n",
              "      <td>Germany</td>\n",
              "      <td>51.165691</td>\n",
              "      <td>10.451526</td>\n",
              "      <td>2022-03-20</td>\n",
              "      <td>18287986</td>\n",
              "      <td>126646</td>\n",
              "    </tr>\n",
              "    <tr>\n",
              "      <th>227953</th>\n",
              "      <td>NaN</td>\n",
              "      <td>Russia</td>\n",
              "      <td>61.524010</td>\n",
              "      <td>105.318756</td>\n",
              "      <td>2022-03-20</td>\n",
              "      <td>17327694</td>\n",
              "      <td>357234</td>\n",
              "    </tr>\n",
              "    <tr>\n",
              "      <th>227990</th>\n",
              "      <td>NaN</td>\n",
              "      <td>Turkey</td>\n",
              "      <td>38.963700</td>\n",
              "      <td>35.243300</td>\n",
              "      <td>2022-03-20</td>\n",
              "      <td>14693917</td>\n",
              "      <td>97267</td>\n",
              "    </tr>\n",
              "    <tr>\n",
              "      <th>227886</th>\n",
              "      <td>NaN</td>\n",
              "      <td>Italy</td>\n",
              "      <td>41.871940</td>\n",
              "      <td>12.567380</td>\n",
              "      <td>2022-03-20</td>\n",
              "      <td>13861743</td>\n",
              "      <td>157785</td>\n",
              "    </tr>\n",
              "    <tr>\n",
              "      <th>227973</th>\n",
              "      <td>NaN</td>\n",
              "      <td>Spain</td>\n",
              "      <td>40.463667</td>\n",
              "      <td>-3.749220</td>\n",
              "      <td>2022-03-20</td>\n",
              "      <td>11324637</td>\n",
              "      <td>101703</td>\n",
              "    </tr>\n",
              "  </tbody>\n",
              "</table>\n",
              "</div>\n",
              "      <button class=\"colab-df-convert\" onclick=\"convertToInteractive('df-e30feb37-a3d5-45f7-85a3-a5f0b0a649a8')\"\n",
              "              title=\"Convert this dataframe to an interactive table.\"\n",
              "              style=\"display:none;\">\n",
              "        \n",
              "  <svg xmlns=\"http://www.w3.org/2000/svg\" height=\"24px\"viewBox=\"0 0 24 24\"\n",
              "       width=\"24px\">\n",
              "    <path d=\"M0 0h24v24H0V0z\" fill=\"none\"/>\n",
              "    <path d=\"M18.56 5.44l.94 2.06.94-2.06 2.06-.94-2.06-.94-.94-2.06-.94 2.06-2.06.94zm-11 1L8.5 8.5l.94-2.06 2.06-.94-2.06-.94L8.5 2.5l-.94 2.06-2.06.94zm10 10l.94 2.06.94-2.06 2.06-.94-2.06-.94-.94-2.06-.94 2.06-2.06.94z\"/><path d=\"M17.41 7.96l-1.37-1.37c-.4-.4-.92-.59-1.43-.59-.52 0-1.04.2-1.43.59L10.3 9.45l-7.72 7.72c-.78.78-.78 2.05 0 2.83L4 21.41c.39.39.9.59 1.41.59.51 0 1.02-.2 1.41-.59l7.78-7.78 2.81-2.81c.8-.78.8-2.07 0-2.86zM5.41 20L4 18.59l7.72-7.72 1.47 1.35L5.41 20z\"/>\n",
              "  </svg>\n",
              "      </button>\n",
              "      \n",
              "  <style>\n",
              "    .colab-df-container {\n",
              "      display:flex;\n",
              "      flex-wrap:wrap;\n",
              "      gap: 12px;\n",
              "    }\n",
              "\n",
              "    .colab-df-convert {\n",
              "      background-color: #E8F0FE;\n",
              "      border: none;\n",
              "      border-radius: 50%;\n",
              "      cursor: pointer;\n",
              "      display: none;\n",
              "      fill: #1967D2;\n",
              "      height: 32px;\n",
              "      padding: 0 0 0 0;\n",
              "      width: 32px;\n",
              "    }\n",
              "\n",
              "    .colab-df-convert:hover {\n",
              "      background-color: #E2EBFA;\n",
              "      box-shadow: 0px 1px 2px rgba(60, 64, 67, 0.3), 0px 1px 3px 1px rgba(60, 64, 67, 0.15);\n",
              "      fill: #174EA6;\n",
              "    }\n",
              "\n",
              "    [theme=dark] .colab-df-convert {\n",
              "      background-color: #3B4455;\n",
              "      fill: #D2E3FC;\n",
              "    }\n",
              "\n",
              "    [theme=dark] .colab-df-convert:hover {\n",
              "      background-color: #434B5C;\n",
              "      box-shadow: 0px 1px 3px 1px rgba(0, 0, 0, 0.15);\n",
              "      filter: drop-shadow(0px 1px 2px rgba(0, 0, 0, 0.3));\n",
              "      fill: #FFFFFF;\n",
              "    }\n",
              "  </style>\n",
              "\n",
              "      <script>\n",
              "        const buttonEl =\n",
              "          document.querySelector('#df-e30feb37-a3d5-45f7-85a3-a5f0b0a649a8 button.colab-df-convert');\n",
              "        buttonEl.style.display =\n",
              "          google.colab.kernel.accessAllowed ? 'block' : 'none';\n",
              "\n",
              "        async function convertToInteractive(key) {\n",
              "          const element = document.querySelector('#df-e30feb37-a3d5-45f7-85a3-a5f0b0a649a8');\n",
              "          const dataTable =\n",
              "            await google.colab.kernel.invokeFunction('convertToInteractive',\n",
              "                                                     [key], {});\n",
              "          if (!dataTable) return;\n",
              "\n",
              "          const docLinkHtml = 'Like what you see? Visit the ' +\n",
              "            '<a target=\"_blank\" href=https://colab.research.google.com/notebooks/data_table.ipynb>data table notebook</a>'\n",
              "            + ' to learn more about interactive tables.';\n",
              "          element.innerHTML = '';\n",
              "          dataTable['output_type'] = 'display_data';\n",
              "          await google.colab.output.renderOutput(dataTable, element);\n",
              "          const docLink = document.createElement('div');\n",
              "          docLink.innerHTML = docLinkHtml;\n",
              "          element.appendChild(docLink);\n",
              "        }\n",
              "      </script>\n",
              "    </div>\n",
              "  </div>\n",
              "  "
            ]
          },
          "metadata": {},
          "execution_count": 67
        }
      ]
    },
    {
      "cell_type": "markdown",
      "source": [
        "## Questao 4. Criar uma coluna denominada taxa de mortalidade (mortos/infectados). Quais os 10 países que possuem maiores valores desta taxa? Você acredita que a taxa de mortalidade uma boa métrica? Quais vieses você conseguiu perceber?"
      ],
      "metadata": {
        "id": "3d-ISrFM96_A"
      }
    },
    {
      "cell_type": "code",
      "source": [
        "data_atualizada = paises_atualizados[paises_atualizados['date'] == '2022-03-20']"
      ],
      "metadata": {
        "id": "dEVqa-TCLspe"
      },
      "execution_count": 68,
      "outputs": []
    },
    {
      "cell_type": "code",
      "source": [
        "data_atualizada['mortalidade'] = round((data_atualizada['dead'] / data_atualizada['infected'])*100 ,2)"
      ],
      "metadata": {
        "colab": {
          "base_uri": "https://localhost:8080/"
        },
        "id": "BnSzul5zINq6",
        "outputId": "db4a2692-3385-4119-e894-a858b8650a5f"
      },
      "execution_count": 86,
      "outputs": [
        {
          "output_type": "stream",
          "name": "stderr",
          "text": [
            "<ipython-input-86-e19105295cec>:1: SettingWithCopyWarning: \n",
            "A value is trying to be set on a copy of a slice from a DataFrame.\n",
            "Try using .loc[row_indexer,col_indexer] = value instead\n",
            "\n",
            "See the caveats in the documentation: https://pandas.pydata.org/pandas-docs/stable/user_guide/indexing.html#returning-a-view-versus-a-copy\n",
            "  data_atualizada['mortalidade'] = round((data_atualizada['dead'] / data_atualizada['infected'])*100 ,2)\n"
          ]
        }
      ]
    },
    {
      "cell_type": "code",
      "source": [
        "data_atualizada.sort_values('mortalidade', ascending=False).head(11)"
      ],
      "metadata": {
        "colab": {
          "base_uri": "https://localhost:8080/",
          "height": 394
        },
        "id": "DOfOo0ClI9sC",
        "outputId": "8faeb59c-f10f-4142-fcd8-8403770e75e9"
      },
      "execution_count": 87,
      "outputs": [
        {
          "output_type": "execute_result",
          "data": {
            "text/plain": [
              "       province                 country        Lat        Long       date  \\\n",
              "228018      NaN                   Yemen  15.552727   48.516388 2022-03-20   \n",
              "227975      NaN                   Sudan  12.862800   30.217600 2022-03-20   \n",
              "227804    Hubei                   China  30.975600  112.270700 2022-03-20   \n",
              "227947      NaN                    Peru  -9.190000  -75.015200 2022-03-20   \n",
              "227917      NaN                  Mexico  23.634500 -102.552800 2022-03-20   \n",
              "227980      NaN                   Syria  34.802075   38.996815 2022-03-20   \n",
              "227970      NaN                 Somalia   5.152149   46.199616 2022-03-20   \n",
              "227843      NaN                   Egypt  26.820553   30.802498 2022-03-20   \n",
              "227732      NaN             Afghanistan  33.939110   67.709953 2022-03-20   \n",
              "227761      NaN  Bosnia and Herzegovina  43.915900   17.679100 2022-03-20   \n",
              "227842      NaN                 Ecuador  -1.831200  -78.183400 2022-03-20   \n",
              "\n",
              "        infected    dead  mortalidade  \n",
              "228018     11801    2140        18.13  \n",
              "227975     61775    4888         7.91  \n",
              "227804     68391    4512         6.60  \n",
              "227947   3541397  211865         5.98  \n",
              "227917   5633928  322072         5.72  \n",
              "227980     55558    3127         5.63  \n",
              "227970     26410    1361         5.15  \n",
              "227843    495373   24277         4.90  \n",
              "227732    177093    7654         4.32  \n",
              "227761    373985   15664         4.19  \n",
              "227842    853850   35410         4.15  "
            ],
            "text/html": [
              "\n",
              "  <div id=\"df-ba8917a9-910f-42a7-8e22-28ebc0edb132\">\n",
              "    <div class=\"colab-df-container\">\n",
              "      <div>\n",
              "<style scoped>\n",
              "    .dataframe tbody tr th:only-of-type {\n",
              "        vertical-align: middle;\n",
              "    }\n",
              "\n",
              "    .dataframe tbody tr th {\n",
              "        vertical-align: top;\n",
              "    }\n",
              "\n",
              "    .dataframe thead th {\n",
              "        text-align: right;\n",
              "    }\n",
              "</style>\n",
              "<table border=\"1\" class=\"dataframe\">\n",
              "  <thead>\n",
              "    <tr style=\"text-align: right;\">\n",
              "      <th></th>\n",
              "      <th>province</th>\n",
              "      <th>country</th>\n",
              "      <th>Lat</th>\n",
              "      <th>Long</th>\n",
              "      <th>date</th>\n",
              "      <th>infected</th>\n",
              "      <th>dead</th>\n",
              "      <th>mortalidade</th>\n",
              "    </tr>\n",
              "  </thead>\n",
              "  <tbody>\n",
              "    <tr>\n",
              "      <th>228018</th>\n",
              "      <td>NaN</td>\n",
              "      <td>Yemen</td>\n",
              "      <td>15.552727</td>\n",
              "      <td>48.516388</td>\n",
              "      <td>2022-03-20</td>\n",
              "      <td>11801</td>\n",
              "      <td>2140</td>\n",
              "      <td>18.13</td>\n",
              "    </tr>\n",
              "    <tr>\n",
              "      <th>227975</th>\n",
              "      <td>NaN</td>\n",
              "      <td>Sudan</td>\n",
              "      <td>12.862800</td>\n",
              "      <td>30.217600</td>\n",
              "      <td>2022-03-20</td>\n",
              "      <td>61775</td>\n",
              "      <td>4888</td>\n",
              "      <td>7.91</td>\n",
              "    </tr>\n",
              "    <tr>\n",
              "      <th>227804</th>\n",
              "      <td>Hubei</td>\n",
              "      <td>China</td>\n",
              "      <td>30.975600</td>\n",
              "      <td>112.270700</td>\n",
              "      <td>2022-03-20</td>\n",
              "      <td>68391</td>\n",
              "      <td>4512</td>\n",
              "      <td>6.60</td>\n",
              "    </tr>\n",
              "    <tr>\n",
              "      <th>227947</th>\n",
              "      <td>NaN</td>\n",
              "      <td>Peru</td>\n",
              "      <td>-9.190000</td>\n",
              "      <td>-75.015200</td>\n",
              "      <td>2022-03-20</td>\n",
              "      <td>3541397</td>\n",
              "      <td>211865</td>\n",
              "      <td>5.98</td>\n",
              "    </tr>\n",
              "    <tr>\n",
              "      <th>227917</th>\n",
              "      <td>NaN</td>\n",
              "      <td>Mexico</td>\n",
              "      <td>23.634500</td>\n",
              "      <td>-102.552800</td>\n",
              "      <td>2022-03-20</td>\n",
              "      <td>5633928</td>\n",
              "      <td>322072</td>\n",
              "      <td>5.72</td>\n",
              "    </tr>\n",
              "    <tr>\n",
              "      <th>227980</th>\n",
              "      <td>NaN</td>\n",
              "      <td>Syria</td>\n",
              "      <td>34.802075</td>\n",
              "      <td>38.996815</td>\n",
              "      <td>2022-03-20</td>\n",
              "      <td>55558</td>\n",
              "      <td>3127</td>\n",
              "      <td>5.63</td>\n",
              "    </tr>\n",
              "    <tr>\n",
              "      <th>227970</th>\n",
              "      <td>NaN</td>\n",
              "      <td>Somalia</td>\n",
              "      <td>5.152149</td>\n",
              "      <td>46.199616</td>\n",
              "      <td>2022-03-20</td>\n",
              "      <td>26410</td>\n",
              "      <td>1361</td>\n",
              "      <td>5.15</td>\n",
              "    </tr>\n",
              "    <tr>\n",
              "      <th>227843</th>\n",
              "      <td>NaN</td>\n",
              "      <td>Egypt</td>\n",
              "      <td>26.820553</td>\n",
              "      <td>30.802498</td>\n",
              "      <td>2022-03-20</td>\n",
              "      <td>495373</td>\n",
              "      <td>24277</td>\n",
              "      <td>4.90</td>\n",
              "    </tr>\n",
              "    <tr>\n",
              "      <th>227732</th>\n",
              "      <td>NaN</td>\n",
              "      <td>Afghanistan</td>\n",
              "      <td>33.939110</td>\n",
              "      <td>67.709953</td>\n",
              "      <td>2022-03-20</td>\n",
              "      <td>177093</td>\n",
              "      <td>7654</td>\n",
              "      <td>4.32</td>\n",
              "    </tr>\n",
              "    <tr>\n",
              "      <th>227761</th>\n",
              "      <td>NaN</td>\n",
              "      <td>Bosnia and Herzegovina</td>\n",
              "      <td>43.915900</td>\n",
              "      <td>17.679100</td>\n",
              "      <td>2022-03-20</td>\n",
              "      <td>373985</td>\n",
              "      <td>15664</td>\n",
              "      <td>4.19</td>\n",
              "    </tr>\n",
              "    <tr>\n",
              "      <th>227842</th>\n",
              "      <td>NaN</td>\n",
              "      <td>Ecuador</td>\n",
              "      <td>-1.831200</td>\n",
              "      <td>-78.183400</td>\n",
              "      <td>2022-03-20</td>\n",
              "      <td>853850</td>\n",
              "      <td>35410</td>\n",
              "      <td>4.15</td>\n",
              "    </tr>\n",
              "  </tbody>\n",
              "</table>\n",
              "</div>\n",
              "      <button class=\"colab-df-convert\" onclick=\"convertToInteractive('df-ba8917a9-910f-42a7-8e22-28ebc0edb132')\"\n",
              "              title=\"Convert this dataframe to an interactive table.\"\n",
              "              style=\"display:none;\">\n",
              "        \n",
              "  <svg xmlns=\"http://www.w3.org/2000/svg\" height=\"24px\"viewBox=\"0 0 24 24\"\n",
              "       width=\"24px\">\n",
              "    <path d=\"M0 0h24v24H0V0z\" fill=\"none\"/>\n",
              "    <path d=\"M18.56 5.44l.94 2.06.94-2.06 2.06-.94-2.06-.94-.94-2.06-.94 2.06-2.06.94zm-11 1L8.5 8.5l.94-2.06 2.06-.94-2.06-.94L8.5 2.5l-.94 2.06-2.06.94zm10 10l.94 2.06.94-2.06 2.06-.94-2.06-.94-.94-2.06-.94 2.06-2.06.94z\"/><path d=\"M17.41 7.96l-1.37-1.37c-.4-.4-.92-.59-1.43-.59-.52 0-1.04.2-1.43.59L10.3 9.45l-7.72 7.72c-.78.78-.78 2.05 0 2.83L4 21.41c.39.39.9.59 1.41.59.51 0 1.02-.2 1.41-.59l7.78-7.78 2.81-2.81c.8-.78.8-2.07 0-2.86zM5.41 20L4 18.59l7.72-7.72 1.47 1.35L5.41 20z\"/>\n",
              "  </svg>\n",
              "      </button>\n",
              "      \n",
              "  <style>\n",
              "    .colab-df-container {\n",
              "      display:flex;\n",
              "      flex-wrap:wrap;\n",
              "      gap: 12px;\n",
              "    }\n",
              "\n",
              "    .colab-df-convert {\n",
              "      background-color: #E8F0FE;\n",
              "      border: none;\n",
              "      border-radius: 50%;\n",
              "      cursor: pointer;\n",
              "      display: none;\n",
              "      fill: #1967D2;\n",
              "      height: 32px;\n",
              "      padding: 0 0 0 0;\n",
              "      width: 32px;\n",
              "    }\n",
              "\n",
              "    .colab-df-convert:hover {\n",
              "      background-color: #E2EBFA;\n",
              "      box-shadow: 0px 1px 2px rgba(60, 64, 67, 0.3), 0px 1px 3px 1px rgba(60, 64, 67, 0.15);\n",
              "      fill: #174EA6;\n",
              "    }\n",
              "\n",
              "    [theme=dark] .colab-df-convert {\n",
              "      background-color: #3B4455;\n",
              "      fill: #D2E3FC;\n",
              "    }\n",
              "\n",
              "    [theme=dark] .colab-df-convert:hover {\n",
              "      background-color: #434B5C;\n",
              "      box-shadow: 0px 1px 3px 1px rgba(0, 0, 0, 0.15);\n",
              "      filter: drop-shadow(0px 1px 2px rgba(0, 0, 0, 0.3));\n",
              "      fill: #FFFFFF;\n",
              "    }\n",
              "  </style>\n",
              "\n",
              "      <script>\n",
              "        const buttonEl =\n",
              "          document.querySelector('#df-ba8917a9-910f-42a7-8e22-28ebc0edb132 button.colab-df-convert');\n",
              "        buttonEl.style.display =\n",
              "          google.colab.kernel.accessAllowed ? 'block' : 'none';\n",
              "\n",
              "        async function convertToInteractive(key) {\n",
              "          const element = document.querySelector('#df-ba8917a9-910f-42a7-8e22-28ebc0edb132');\n",
              "          const dataTable =\n",
              "            await google.colab.kernel.invokeFunction('convertToInteractive',\n",
              "                                                     [key], {});\n",
              "          if (!dataTable) return;\n",
              "\n",
              "          const docLinkHtml = 'Like what you see? Visit the ' +\n",
              "            '<a target=\"_blank\" href=https://colab.research.google.com/notebooks/data_table.ipynb>data table notebook</a>'\n",
              "            + ' to learn more about interactive tables.';\n",
              "          element.innerHTML = '';\n",
              "          dataTable['output_type'] = 'display_data';\n",
              "          await google.colab.output.renderOutput(dataTable, element);\n",
              "          const docLink = document.createElement('div');\n",
              "          docLink.innerHTML = docLinkHtml;\n",
              "          element.appendChild(docLink);\n",
              "        }\n",
              "      </script>\n",
              "    </div>\n",
              "  </div>\n",
              "  "
            ]
          },
          "metadata": {},
          "execution_count": 87
        }
      ]
    },
    {
      "cell_type": "markdown",
      "source": [
        "# Resposta. \n",
        "\n",
        "Analisando as informaçoes percebe-se que os 10 países no ranking de infectados e mortos foram os mesmos e na mesma ordem. Porém, eles não aparecem entre no ranking de mortalidade."
      ],
      "metadata": {
        "id": "6hd_makGJz0Q"
      }
    },
    {
      "cell_type": "markdown",
      "source": [
        "## Questão 5. Gere os seguintes gráficos:"
      ],
      "metadata": {
        "id": "1W5UITI3CfJ2"
      }
    },
    {
      "cell_type": "code",
      "source": [
        "#A Gráfico de linhas contendo a evolução do número de infectados do Brasil e Estados Unidos.\n",
        "paises = paises_atualizados[paises_atualizados['country'].isin(['Brazil', 'US'])]\n",
        "paises = paises.pivot(index='date', columns='country', values='infected')\n",
        "axA = paises.plot.line()\n",
        "plt.xlabel('date')\n",
        "plt.ylabel('infected')"
      ],
      "metadata": {
        "colab": {
          "base_uri": "https://localhost:8080/",
          "height": 320
        },
        "id": "1F-1l5lEtu8n",
        "outputId": "313970e8-cad2-4ef4-aaec-1f8394e2a4f0"
      },
      "execution_count": 71,
      "outputs": [
        {
          "output_type": "execute_result",
          "data": {
            "text/plain": [
              "Text(0, 0.5, 'infected')"
            ]
          },
          "metadata": {},
          "execution_count": 71
        },
        {
          "output_type": "display_data",
          "data": {
            "text/plain": [
              "<Figure size 432x288 with 1 Axes>"
            ],
            "image/png": "[encoded data removed]"
          },
          "metadata": {
            "needs_background": "light"
          }
        }
      ]
    },
    {
      "cell_type": "code",
      "source": [
        "#B Gráfico de linhas contendo a evolução do número de mortos do Brasil e Estados Unidos.\n",
        "paisesB = paises_atualizados[paises_atualizados['country'].isin(['Brazil', 'US'])]\n",
        "paisesB = paisesB.pivot(index='date', columns='country', values='dead')\n",
        "axB = paisesB.plot.line()\n",
        "plt.xlabel('date')\n",
        "plt.ylabel('dead')"
      ],
      "metadata": {
        "id": "_OBO3Q-cP2DB",
        "colab": {
          "base_uri": "https://localhost:8080/",
          "height": 320
        },
        "outputId": "1b4194a4-d3e2-4234-c442-1442780964f0"
      },
      "execution_count": 72,
      "outputs": [
        {
          "output_type": "execute_result",
          "data": {
            "text/plain": [
              "Text(0, 0.5, 'dead')"
            ]
          },
          "metadata": {},
          "execution_count": 72
        },
        {
          "output_type": "display_data",
          "data": {
            "text/plain": [
              "<Figure size 432x288 with 1 Axes>"
            ],
            "image/png": "[encoded data removed]"
          },
          "metadata": {
            "needs_background": "light"
          }
        }
      ]
    },
    {
      "cell_type": "code",
      "source": [
        "#C Gráfico de barras comparando o número de infectados de Brasil e Estados Unidos em 20/mar.\n",
        "paisesC = paises_atualizados[paises_atualizados['country'].isin(['Brazil', 'US'])]\n",
        "paisesC = paisesC[paisesC['date'] == '2022-03-20']\n",
        "paisesC = paisesC.pivot(index='date', columns='country', values='infected')\n",
        "axC = paisesC.plot.bar()\n",
        "plt.xlabel('date')\n",
        "plt.ylabel('infected')"
      ],
      "metadata": {
        "id": "_ts8kfFUS6fI",
        "colab": {
          "base_uri": "https://localhost:8080/",
          "height": 403
        },
        "outputId": "e0bfcdee-aa23-405c-9187-aa073f736f80"
      },
      "execution_count": 73,
      "outputs": [
        {
          "output_type": "execute_result",
          "data": {
            "text/plain": [
              "Text(0, 0.5, 'infected')"
            ]
          },
          "metadata": {},
          "execution_count": 73
        },
        {
          "output_type": "display_data",
          "data": {
            "text/plain": [
              "<Figure size 432x288 with 1 Axes>"
            ],
            "image/png": "[encoded data removed]"
          },
          "metadata": {
            "needs_background": "light"
          }
        }
      ]
    },
    {
      "cell_type": "code",
      "source": [
        "#D Gráfico de barras comparando o número de mortos de Brasil e Estados Unidos em 20/mar.\n",
        "paisesD = paises_atualizados[paises_atualizados['country'].isin(['Brazil', 'US'])]\n",
        "paisesD = paisesD[paisesD['date'] == '2022-03-20']\n",
        "paisesD = paisesD.pivot(index='date', columns='country', values='dead')\n",
        "axD = paisesD.plot.bar()\n",
        "plt.xlabel('date')\n",
        "plt.ylabel('dead')"
      ],
      "metadata": {
        "colab": {
          "base_uri": "https://localhost:8080/",
          "height": 403
        },
        "id": "A1mITYOk01Np",
        "outputId": "e638d379-7334-44d6-c25f-1fc138b36b8f"
      },
      "execution_count": 74,
      "outputs": [
        {
          "output_type": "execute_result",
          "data": {
            "text/plain": [
              "Text(0, 0.5, 'dead')"
            ]
          },
          "metadata": {},
          "execution_count": 74
        },
        {
          "output_type": "display_data",
          "data": {
            "text/plain": [
              "<Figure size 432x288 with 1 Axes>"
            ],
            "image/png": "[encoded data removed]"
          },
          "metadata": {
            "needs_background": "light"
          }
        }
      ]
    },
    {
      "cell_type": "code",
      "source": [
        "#E Gráfico de barras comparando a taxa de mortalidade de Brasil e Estados Unidos em 20/mar.\n",
        "paisesE = data_atualizada[data_atualizada['country'].isin(['Brazil', 'US'])]\n",
        "paisesE = paisesE[paisesE['date'] == '2022-03-20']\n",
        "paisesE = paisesE.pivot(index='date', columns='country', values='mortalidade')\n",
        "axE= paisesE.plot.bar()\n",
        "plt.xlabel('date')\n",
        "plt.ylabel('dead')"
      ],
      "metadata": {
        "colab": {
          "base_uri": "https://localhost:8080/",
          "height": 392
        },
        "id": "Wr1L4qIp2Dhf",
        "outputId": "3239ee61-7027-4860-b784-37364a217fce"
      },
      "execution_count": 75,
      "outputs": [
        {
          "output_type": "execute_result",
          "data": {
            "text/plain": [
              "Text(0, 0.5, 'dead')"
            ]
          },
          "metadata": {},
          "execution_count": 75
        },
        {
          "output_type": "display_data",
          "data": {
            "text/plain": [
              "<Figure size 432x288 with 1 Axes>"
            ],
            "image/png": "[encoded data removed]"
          },
          "metadata": {
            "needs_background": "light"
          }
        }
      ]
    },
    {
      "cell_type": "code",
      "source": [
        "\n"
      ],
      "metadata": {
        "id": "e2SH7C7j155m"
      },
      "execution_count": 75,
      "outputs": []
    }
  ]
}